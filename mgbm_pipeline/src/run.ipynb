{
 "cells": [
  {
   "cell_type": "code",
   "execution_count": 1,
   "id": "b37214a1",
   "metadata": {},
   "outputs": [],
   "source": [
    "# Cell 1: Imports\n",
    "import os\n",
    "import pandas as pd\n",
    "from sklearn.model_selection import train_test_split\n",
    "from sklearn.metrics import classification_report\n",
    "import xgboost as xgb\n",
    "\n",
    "from data.load_data import loadTrainingData\n",
    "from plots.feature_plots import plot_roc_auc, plot_confusion_matrix\n",
    "from features.create_feature_vectors import extract_features_with_expanding_window\n",
    "\n",
    "pd.set_option('display.max_columns', None)\n",
    "pd.set_option('display.max_rows', None)"
   ]
  },
  {
   "cell_type": "raw",
   "id": "7bcbde17",
   "metadata": {},
   "source": [
    "TODO:\n",
    "•⁠  ⁠upsample tests ><\n",
    "•⁠  ⁠⁠blue crystal run\n",
    "•⁠  ⁠⁠plot output matrix ><\n",
    "•⁠  ⁠⁠custom auc max function\n",
    "•⁠  ⁠⁠debug vector on 1 patient\n",
    "•⁠  ⁠⁠convert to Jupyter  notebook ><\n",
    "•⁠  ⁠⁠parralise features loop"
   ]
  },
  {
   "cell_type": "code",
   "execution_count": 2,
   "id": "57288ea0",
   "metadata": {},
   "outputs": [
    {
     "name": "stdout",
     "output_type": "stream",
     "text": [
      "\n",
      "Loading data from: ../../training_setA/*.psv with max_files=5000\n"
     ]
    },
    {
     "name": "stderr",
     "output_type": "stream",
     "text": [
      "Loading PSV Files: 100%|██████████████████| 5000/5000 [00:04<00:00, 1195.63it/s]\n"
     ]
    },
    {
     "name": "stdout",
     "output_type": "stream",
     "text": [
      "\n",
      "Loading data from: ../../training_setB/*.psv with max_files=5000\n"
     ]
    },
    {
     "name": "stderr",
     "output_type": "stream",
     "text": [
      "Loading PSV Files: 100%|██████████████████| 5000/5000 [00:04<00:00, 1195.46it/s]\n"
     ]
    }
   ],
   "source": [
    "# Cell 2: Load data\n",
    "directories = ['../../training_setA/', '../../training_setB/']\n",
    "max_files = 5000  # Adjust as needed\n",
    "\n",
    "patient_dict = {}\n",
    "\n",
    "for directory in directories:\n",
    "    pattern = os.path.join(directory, \"*.psv\")\n",
    "    print(f\"\\nLoading data from: {pattern} with max_files={max_files}\")\n",
    "    patient_data = loadTrainingData(\n",
    "        pattern,\n",
    "        max_files,\n",
    "        ignore_columns=['Age', 'Gender', 'Unit1', 'Unit2', 'HospAdmTime']\n",
    "    )\n",
    "    patient_dict.update(patient_data)\n"
   ]
  },
  {
   "cell_type": "code",
   "execution_count": null,
   "id": "d803c4bf",
   "metadata": {},
   "outputs": [
    {
     "name": "stdout",
     "output_type": "stream",
     "text": [
      "(383239, 36)\n"
     ]
    },
    {
     "name": "stderr",
     "output_type": "stream",
     "text": [
      "extracting features with expanding window:  13%|▏| 1309/10000 [04:20<25:49,  5.6"
     ]
    }
   ],
   "source": [
    "# Cell 3: Create features\n",
    "feature_df = extract_features_with_expanding_window(patient_dict)\n",
    "feature_df.head(10)  # Adjust as needed for a quick glance\n",
    "\n",
    "# Drop non-feature columns if present\n",
    "for col in [\"patient_id\", \"window_size\"]:\n",
    "    if col in feature_df.columns:\n",
    "        feature_df.drop(columns=[col], inplace=True, errors=\"ignore\")\n",
    "\n",
    "# Separate features and target\n",
    "X = feature_df.drop(columns=[\"SepsisLabel\"], errors=\"ignore\")\n",
    "y = feature_df[\"SepsisLabel\"]\n"
   ]
  },
  {
   "cell_type": "code",
   "execution_count": null,
   "id": "d39ad4a4",
   "metadata": {},
   "outputs": [],
   "source": [
    "# Testing Rolling Box\n",
    "\n",
    "for df in patient_dict.values():\n",
    "    df.head(100)\n",
    "    break\n",
    "    "
   ]
  },
  {
   "cell_type": "code",
   "execution_count": null,
   "id": "7bfd6e84-fac1-4515-816a-23b51d022dff",
   "metadata": {},
   "outputs": [],
   "source": [
    "feature_df.head(100)"
   ]
  },
  {
   "cell_type": "code",
   "execution_count": null,
   "id": "e6dd9f9d",
   "metadata": {},
   "outputs": [],
   "source": [
    "# Cell 4: Train/test split\n",
    "neg_samples, pos_samples = y.value_counts()\n",
    "print(f\"Negative samples: {neg_samples}, Positive samples: {pos_samples}\")\n",
    "\n",
    "X_train, X_test, y_train, y_test = train_test_split(\n",
    "    X, y,\n",
    "    test_size=0.2,\n",
    "    random_state=42,\n",
    "    stratify=y\n",
    ")"
   ]
  },
  {
   "cell_type": "code",
   "execution_count": null,
   "id": "b35283f9",
   "metadata": {},
   "outputs": [],
   "source": [
    "# Cell 5: Train model\n",
    "model = xgb.XGBClassifier(\n",
    "    random_state=42,\n",
    "    objective='binary:logistic',\n",
    "    eval_metric=\"auc\",\n",
    "    scale_pos_weight=neg_samples / pos_samples\n",
    ")\n",
    "model.fit(X_train, y_train, \n",
    "          eval_set=[(X_test, y_test)],\n",
    "          verbose=1)"
   ]
  },
  {
   "cell_type": "code",
   "execution_count": null,
   "id": "7da7b2c9",
   "metadata": {},
   "outputs": [],
   "source": [
    "# Cell 6: Evaluate model\n",
    "y_pred = model.predict(X_test)\n",
    "y_proba = model.predict_proba(X_test)[:, 1]\n",
    "\n",
    "# Plot ROC curve\n",
    "plot_roc_auc(model, X_test, y_test)\n",
    "\n",
    "# Plot confusion matrix\n",
    "plot_confusion_matrix(y_test, y_pred, labels=(\"No Sepsis\", \"Sepsis\"))\n",
    "\n",
    "# Print classification metrics\n",
    "print(\"\\nClassification Report:\")\n",
    "print(classification_report(y_test, y_pred))"
   ]
  }
 ],
 "metadata": {
  "kernelspec": {
   "display_name": "Python 3 (ipykernel)",
   "language": "python",
   "name": "python3"
  },
  "language_info": {
   "codemirror_mode": {
    "name": "ipython",
    "version": 3
   },
   "file_extension": ".py",
   "mimetype": "text/x-python",
   "name": "python",
   "nbconvert_exporter": "python",
   "pygments_lexer": "ipython3",
   "version": "3.11.11"
  }
 },
 "nbformat": 4,
 "nbformat_minor": 5
}
