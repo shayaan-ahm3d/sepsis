{
 "cells": [
  {
   "cell_type": "code",
   "execution_count": 1,
   "id": "f4c57903",
   "metadata": {},
   "outputs": [],
   "source": [
    "import sys\n",
    "import os\n",
    "import pandas as pd\n",
    "from pprint import pprint\n",
    "\n",
    "# Import your custom modules. Adjust the module paths as needed.\n",
    "from data.load_data import loadTrainingData\n",
    "from plots.feature_plots import plot_missingness\n"
   ]
  },
  {
   "cell_type": "code",
   "execution_count": null,
   "id": "935f8e29",
   "metadata": {},
   "outputs": [
    {
     "name": "stdout",
     "output_type": "stream",
     "text": [
      "\n",
      "Loading data from: ../../training_setA/*.psv with max_files=None\n"
     ]
    },
    {
     "name": "stderr",
     "output_type": "stream",
     "text": [
      "Loading PSV Files: 100%|█████████████████| 20336/20336 [00:20<00:00, 969.39it/s]\n"
     ]
    },
    {
     "name": "stdout",
     "output_type": "stream",
     "text": [
      "\n",
      "Loading data from: ../../training_setB/*.psv with max_files=None\n"
     ]
    },
    {
     "name": "stderr",
     "output_type": "stream",
     "text": [
      "Loading PSV Files:  21%|███▊              | 4272/20000 [00:04<00:17, 920.09it/s]"
     ]
    }
   ],
   "source": [
    "# Define directories and max_files manually.\n",
    "directories = ['../../training_setA/', '../../training_setB/']\n",
    "max_files = None  # Change this to a number (e.g., 1000) if you want to limit the number of files\n",
    "\n",
    "dfs = []\n",
    "for directory in directories:\n",
    "    # Build the path pattern for .psv files in the directory.\n",
    "    pattern = os.path.join(directory, \"*.psv\")\n",
    "    print(f\"\\nLoading data from: {pattern} with max_files={max_files}\")\n",
    "    patient_data = loadTrainingData(pattern, max_files)\n",
    "    \n",
    "    # Concatenate all DataFrames from the current directory.\n",
    "    combined_df = pd.concat(list(patient_data.values()), ignore_index=True)\n",
    "    dfs.append(combined_df)\n",
    "\n",
    "# Concatenate the combined DataFrames from all directories.\n",
    "all_data = pd.concat(dfs, ignore_index=True)\n",
    "print(f\"\\nCombined training set shape: {all_data.shape}\")\n"
   ]
  },
  {
   "cell_type": "code",
   "execution_count": null,
   "id": "15c1d26c",
   "metadata": {},
   "outputs": [],
   "source": [
    "plot_missingness(all_data, title=f\"Missing Data\")"
   ]
  }
 ],
 "metadata": {
  "kernelspec": {
   "display_name": "Python 3 (ipykernel)",
   "language": "python",
   "name": "python3"
  },
  "language_info": {
   "codemirror_mode": {
    "name": "ipython",
    "version": 3
   },
   "file_extension": ".py",
   "mimetype": "text/x-python",
   "name": "python",
   "nbconvert_exporter": "python",
   "pygments_lexer": "ipython3",
   "version": "3.11.5"
  }
 },
 "nbformat": 4,
 "nbformat_minor": 5
}
