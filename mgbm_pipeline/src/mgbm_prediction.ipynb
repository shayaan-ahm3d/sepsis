{
 "cells": [
  {
   "cell_type": "code",
   "execution_count": null,
   "id": "068ee784",
   "metadata": {},
   "outputs": [],
   "source": [
    "import sys\n",
    "import os\n",
    "import pandas as pd\n",
    "from pprint import pprint\n",
    "\n",
    "# Import your custom modules. Adjust the module paths as needed.\n",
    "from data.load_data import loadTrainingData\n",
    "from plots.feature_plots import plot_missingness\n"
   ]
  },
  {
   "cell_type": "code",
   "execution_count": null,
   "id": "adbaa37f",
   "metadata": {},
   "outputs": [],
   "source": [
    "# Define directories and max_files manually.\n",
    "directories = ['../../training_setA/', '../../training_setB/']\n",
    "max_files = None  # Change this to a number (e.g., 1000) if you want to limit the number of files\n",
    "ignore_columns = ['Age', 'Gender', 'Unit1', 'Unit2', 'HospAdmTime']\n",
    "\n",
    "dfs = []\n",
    "patient_dict = {}\n",
    "\n",
    "for directory in directories:\n",
    "    # Build the path pattern for .psv files in the directory.\n",
    "    pattern = os.path.join(directory, \"*.psv\")\n",
    "    print(f\"\\nLoading data from: {pattern} with max_files={max_files}\")\n",
    "    patient_data = loadTrainingData(pattern, max_files)\n",
    "    \n",
    "    patient_dict.update(patient_data)\n",
    "    \n",
    "    # Concatenate all DataFrames from the current directory.\n",
    "    combined_df = pd.concat(list(patient_data.values()), ignore_index=True)\n",
    "    dfs.append(combined_df)\n",
    "\n",
    "# Concatenate the combined DataFrames from all directories.\n",
    "all_data = pd.concat(dfs, ignore_index=True)\n",
    "print(f\"\\nCombined training set shape: {all_data.shape}\")\n"
   ]
  },
  {
   "cell_type": "code",
   "execution_count": null,
   "id": "6c611541",
   "metadata": {
    "scrolled": true
   },
   "outputs": [],
   "source": [
    "plot_missingness(all_data, title=\"Missing Data\")"
   ]
  },
  {
   "cell_type": "code",
   "execution_count": null,
   "id": "f3f3de46",
   "metadata": {
    "scrolled": true
   },
   "outputs": [],
   "source": [
    "all_data.head(5)"
   ]
  },
  {
   "cell_type": "code",
   "execution_count": null,
   "id": "96b2aeff",
   "metadata": {},
   "outputs": [],
   "source": [
    "all_data.columns"
   ]
  },
  {
   "cell_type": "code",
   "execution_count": null,
   "id": "ad6df398",
   "metadata": {},
   "outputs": [],
   "source": [
    "# Improve Missingness here\n",
    "from data.clean_data import forwardFillMAP\n",
    "\n",
    "all_data = forwardFillMAP(all_data)\n",
    "plot_missingness(all_data, title=\"Missing Data + Map\")"
   ]
  },
  {
   "cell_type": "code",
   "execution_count": null,
   "id": "bbeff265",
   "metadata": {},
   "outputs": [],
   "source": [
    "from data.clean_data import forwardFillDBP\n",
    "\n",
    "all_data = forwardFillDBP(all_data)\n",
    "plot_missingness(all_data, title=\"Missing Data + Map + DBP\")"
   ]
  },
  {
   "cell_type": "code",
   "execution_count": null,
   "id": "cc546f60",
   "metadata": {},
   "outputs": [],
   "source": [
    "from data.clean_data import forwardFillSBP\n",
    "\n",
    "all_data = forwardFillSBP(all_data)\n",
    "plot_missingness(all_data, title=\"Missing Data + Map + DBP + SBP\")"
   ]
  },
  {
   "cell_type": "code",
   "execution_count": null,
   "id": "14bc37f9",
   "metadata": {},
   "outputs": [],
   "source": [
    "import matplotlib.pyplot as plt\n",
    "    \n",
    "df = all_data.copy()\n",
    "\n",
    "complete = df[['pH', 'PaCO2', 'HCO3']].dropna()\n",
    "corr_matrix = complete.corr()\n",
    "print(\"Correlation Matrix for pH, PaCO2, and HCO3:\")\n",
    "print(corr_matrix)\n",
    "\n",
    "# Optionally, visualize the correlation matrix.\n",
    "plt.figure(figsize=(6, 4))\n",
    "plt.matshow(corr_matrix, fignum=1)\n",
    "plt.xticks(range(len(corr_matrix.columns)), corr_matrix.columns, rotation=45)\n",
    "plt.yticks(range(len(corr_matrix.columns)), corr_matrix.columns)\n",
    "plt.colorbar()\n",
    "plt.title(\"Acid-Base Correlation Matrix\", pad=20)\n",
    "plt.show()\n"
   ]
  },
  {
   "cell_type": "code",
   "execution_count": null,
   "id": "e27dc8dc",
   "metadata": {},
   "outputs": [],
   "source": [
    "from data.correlation_data import test_pH_equation_accuracy\n",
    "\n",
    "test_pH_equation_accuracy(df)"
   ]
  },
  {
   "cell_type": "code",
   "execution_count": null,
   "id": "5f7dbee8",
   "metadata": {},
   "outputs": [],
   "source": [
    "from data.clean_data import forwardFillHasselbalch\n",
    "\n",
    "all_data = forwardFillHasselbalch(all_data)\n",
    "plot_missingness(all_data, title=\"Missing Data + Hassel\")"
   ]
  },
  {
   "cell_type": "code",
   "execution_count": null,
   "id": "51616b08",
   "metadata": {},
   "outputs": [],
   "source": [
    "all_data['Bilirubin_total'].describe()"
   ]
  },
  {
   "cell_type": "code",
   "execution_count": null,
   "id": "6cbb6295",
   "metadata": {},
   "outputs": [],
   "source": [
    "all_data['Bilirubin_direct'].describe()"
   ]
  },
  {
   "cell_type": "raw",
   "id": "47fb7501",
   "metadata": {},
   "source": [
    "from data.correlation_data import evaluate_bilirubin_ratio\n",
    "\n",
    "evaluate_bilirubin_ratio(patient_dict)"
   ]
  },
  {
   "cell_type": "code",
   "execution_count": null,
   "id": "d39e4b6f",
   "metadata": {},
   "outputs": [],
   "source": [
    "from data.clean_data import forwardFillData\n",
    "\n",
    "clean_df = forwardFillData(all_data)\n",
    "# plot_missingness(clean_df, title=\"Cleaned Data\")"
   ]
  },
  {
   "cell_type": "raw",
   "id": "b2484169",
   "metadata": {},
   "source": [
    "from data.correlation_data import evaluate_creatinine_BUN_ratio\n",
    "\n",
    "evaluate_creatinine_BUN_ratio(patient_dict)"
   ]
  },
  {
   "cell_type": "raw",
   "id": "ef7d2596",
   "metadata": {},
   "source": [
    "from data.correlation_data import evaluate_creatinine_BUN_ratio_mean\n",
    "\n",
    "evaluate_creatinine_BUN_ratio_mean(patient_dict)"
   ]
  },
  {
   "cell_type": "raw",
   "id": "8029dde6",
   "metadata": {},
   "source": [
    "from data.correlation_data import evaluate_bilirubin_ratio_mean\n",
    "\n",
    "evaluate_bilirubin_ratio_mean(patient_dict)"
   ]
  },
  {
   "cell_type": "raw",
   "id": "bc1f13e6",
   "metadata": {},
   "source": [
    "# Beth Israel Deaconess Medical Center (hospital system A), Emory University Hospital (hospital system B)\n",
    "# I can use this to approximate atm\n",
    "# This should be done on a patient by patient level later and per hospital \n",
    "# Beth Israel Deaconess Medical Center typically experiences about 760 mm Hg while Emory University Hospital, at a higher altitude, sees around 730–735 mm Hg atmospheric pressure.\n",
    "\n",
    "from features.feature_approximation import estimate_alveolar_oxygen\n",
    "\n",
    "estimate_alveolar_oxygen(all_data, 750)"
   ]
  },
  {
   "cell_type": "code",
   "execution_count": null,
   "id": "59c69418",
   "metadata": {},
   "outputs": [],
   "source": [
    "from data.clean_data import backShiftSepsisLabel\n",
    "\n",
    "\n",
    "patient_record = None\n",
    "for df in patient_dict.values():\n",
    "    if df['SepsisLabel'].sum() > 0:\n",
    "        patient_record = df\n",
    "        break\n",
    "\n",
    "\n",
    "patient_record.tail(10)\n"
   ]
  },
  {
   "cell_type": "code",
   "execution_count": null,
   "id": "cf5e5223",
   "metadata": {},
   "outputs": [],
   "source": [
    "shifted_patient_record = backShiftSepsisLabel(patient_record)\n",
    "\n",
    "shifted_patient_record.tail(10)"
   ]
  },
  {
   "cell_type": "code",
   "execution_count": null,
   "id": "12221727",
   "metadata": {},
   "outputs": [],
   "source": [
    "# Count avg num of sepsis labels for a septic patient\n",
    "# Take a dictionary of patient dataframes\n",
    "# If they have at least one septic label\n",
    "# Add the column to a list to calculate the avg number of rows for a septic patient and the avg number of septic labels = 1 for a patient\n",
    "# also record the min and max number of septic label = 1 for a patient that has sepsis"
   ]
  },
  {
   "cell_type": "code",
   "execution_count": null,
   "id": "f4488776",
   "metadata": {},
   "outputs": [],
   "source": [
    "from data.helper_data import count_sepsis_labels\n",
    "\n",
    "count_sepsis_labels(patient_dict)"
   ]
  },
  {
   "cell_type": "raw",
   "id": "f213f052",
   "metadata": {},
   "source": [
    "\"\"\"\n",
    "A function that takes a patient dictionary where each item is a patient df\n",
    "A new feature should be added called SepsisLabel_delta where the SepsisLabel feature is encoded \n",
    "such that it provides the time before and after developing sepsis e.g. If a patient never has sepsis\n",
    "it would be -250 and if they do it would be 0 when the first 1 appears. The column would look like this\n",
    "\n",
    "SepsisLabel | 0 0 0 0 1 1 1 1\n",
    "SepsisLabel_delta | -4 -3 -2 -1 0 1 2 3\n",
    "\n",
    "Each other column not in the Demographic columns = [Age, Gender, Unit1, Unit2, HospAdmTime, ICULOS] should have a new feature which represents\n",
    "the difference between the last value and the value before that e.g.\n",
    "\n",
    "Temp | 75.1 NaN 76.3 76.7\n",
    "Temp_delta1 | 0 NaN NaN 0.4\n",
    "Temp_delta2 | 0 NaN 1.2 NaN\n",
    "\n",
    "\n",
    "If the previous value is NaN the delta should be NaN. If it is the first value in the dataframe the delta should be 0.\n",
    "\n",
    "The patientID should be added as a feature.\n",
    "\n",
    "Once this is now done it should be returned.\n",
    "\n",
    "The new patient_dict should now be merged into a single dataframe sorted by SepsisLabel\n",
    "\n",
    "The new dataframe should be sent into a function which should use some kind of machine learning technique to fill the NaNs in the delta features\n",
    "by using values that are near in the column and share similar value in their row.\n",
    "\n",
    "The dataframe should then be sent back and converted back to a patient dict. \n",
    "The items will be grouped by patient_id and ordered by ICULOS. It should check that there is the max ICULOS = number of rows\n",
    "The Patient ID feature should then be removed and set to the dictionary key.\n",
    "\n",
    "\"\"\"\n"
   ]
  },
  {
   "cell_type": "code",
   "execution_count": null,
   "id": "903ff0f8",
   "metadata": {},
   "outputs": [],
   "source": [
    "from models.mice.encode_data import encode_dict_deltas\n",
    "\n",
    "encoded_patient_dict = encode_dict_deltas(patient_dict)"
   ]
  },
  {
   "cell_type": "code",
   "execution_count": null,
   "id": "4857bcdc",
   "metadata": {},
   "outputs": [],
   "source": [
    "\"\"\"\n",
    "Function takes a dict of patient dataframes\n",
    "Create Sliding Window feature vectors or some many of feature vectors\n",
    "Add Engineered features\n",
    "\n",
    "RunLGBM\n",
    "\n",
    "Eval outputs\n",
    "\n",
    "Grid Search - Machine Learning library to run 10k combos with json input\n",
    "\n",
    "\"\"\""
   ]
  },
  {
   "cell_type": "code",
   "execution_count": null,
   "id": "5fd8acb5",
   "metadata": {},
   "outputs": [],
   "source": [
    "pd.set_option('display.max_columns', None)\n",
    "pd.set_option('display.max_rows', None)\n",
    "\n",
    "patient_record = None\n",
    "for df in encoded_patient_dict.values():\n",
    "    if df['SepsisLabel'].sum() > 0:\n",
    "        patient_record = df\n",
    "        break\n",
    "        \n",
    "patient_record.head(10)"
   ]
  },
  {
   "cell_type": "code",
   "execution_count": null,
   "id": "8dbd8161",
   "metadata": {},
   "outputs": [],
   "source": [
    "from models.mice.encode_data import merge_patient_dict\n",
    "\n",
    "encoded_df = merge_patient_dict(encoded_patient_dict, 'SepsisLabel_delta')"
   ]
  },
  {
   "cell_type": "code",
   "execution_count": null,
   "id": "894f7b75",
   "metadata": {},
   "outputs": [],
   "source": [
    "plot_missingness(encoded_df, title=\"Encoded Missing Values\")"
   ]
  },
  {
   "cell_type": "code",
   "execution_count": null,
   "id": "4c8ac0a3",
   "metadata": {},
   "outputs": [],
   "source": [
    "from models.mice.encode_data import impute_delta_features\n",
    "\n",
    "imputed_df = impute_delta_features(encoded_df)"
   ]
  },
  {
   "cell_type": "code",
   "execution_count": null,
   "id": "4586c93a",
   "metadata": {},
   "outputs": [],
   "source": [
    "# imputed_df.head(10)\n",
    "imputed_df.head(10)\n",
    "# plot_missingness(imputed_df, title=\"Imputed Missing Values\")"
   ]
  },
  {
   "cell_type": "code",
   "execution_count": null,
   "id": "29e573f0",
   "metadata": {},
   "outputs": [],
   "source": [
    "from models.mice.encode_data import split_and_restructure\n",
    "\n",
    "imputed_df.head(10)\n",
    "imputed_dict = split_and_restructure(imputed_df)"
   ]
  },
  {
   "cell_type": "code",
   "execution_count": null,
   "id": "1700903e",
   "metadata": {},
   "outputs": [],
   "source": [
    "plot_missingness(imputed_df, title=\"Imputed Missing Values\")"
   ]
  },
  {
   "cell_type": "code",
   "execution_count": null,
   "id": "eaf56b70",
   "metadata": {},
   "outputs": [],
   "source": [
    "all_data[\"EtCO2\"].describe()"
   ]
  },
  {
   "cell_type": "code",
   "execution_count": null,
   "id": "5ebff995",
   "metadata": {
    "scrolled": true
   },
   "outputs": [],
   "source": [
    "temp = []\n",
    "for df in imputed_dict.values():\n",
    "    temp = df\n",
    "    break\n",
    "temp.head(100)"
   ]
  },
  {
   "cell_type": "raw",
   "id": "d70f641e",
   "metadata": {},
   "source": [
    "\"\"\"\n",
    "I now need to reconstruct the vitals using the deltas.\n",
    "\n",
    "I need to iteratively look at NaN values in each vital column and approximate its value using the {Vital)_delta1 and {Vital}_delta2 values.\n",
    "\n",
    "This should be done by looking at the values the column does have and reconstructing each adjacent NaN using the deltas. \n",
    "This should be repeated until the column is full.\n",
    "\n",
    "\n",
    "If a column is entirely NaN it should be left alone\n",
    "\n",
    "Once this is done the delta Columns should be removed (along with SepsisLabel_delta) -> Trial Bins with and without\n",
    "\n",
    "\"\"\""
   ]
  },
  {
   "cell_type": "code",
   "execution_count": null,
   "id": "572d775c",
   "metadata": {},
   "outputs": [],
   "source": [
    "from models.mice.encode_data import reconstruct_vitals\n",
    "from tqdm import tqdm\n",
    "\n",
    "reconstructed_impute_dict = {}\n",
    "\n",
    "for patient_id, df in tqdm(imputed_dict.items(), desc='reconstructing'):\n",
    "    reconstructed_df = reconstruct_vitals(df.copy(), max_iter=50)\n",
    "    reconstructed_impute_dict[patient_id] = reconstructed_df"
   ]
  },
  {
   "cell_type": "raw",
   "id": "a2f2d7ae",
   "metadata": {},
   "source": [
    "from models.mice.encode_data import reconstruct_vitals\n",
    "from tqdm import tqdm\n",
    "\n",
    "reconstructed_impute_dict = {}\n",
    "\n",
    "# Get only the first 1000 patients\n",
    "limited_patients = list(imputed_dict.keys())[:1000]\n",
    "\n",
    "for patient_id in tqdm(limited_patients, desc='Reconstructing (Limited to 1000)'):\n",
    "    df = imputed_dict[patient_id]\n",
    "    reconstructed_df = reconstruct_vitals(df.copy(), max_iter=50)\n",
    "    reconstructed_impute_dict[patient_id] = reconstructed_df"
   ]
  },
  {
   "cell_type": "raw",
   "id": "695c3a25",
   "metadata": {},
   "source": [
    "\"\"\"\n",
    "Run LGBM and set target to Sepsis time delta \n",
    "\n",
    "Evaluate model by comparing if they have true sepsis 0,1 to the threshold -100\n",
    "\n",
    "\"\"\""
   ]
  },
  {
   "cell_type": "code",
   "execution_count": null,
   "id": "893e1fa1",
   "metadata": {},
   "outputs": [],
   "source": [
    "from models.lgbm_impl import train_and_evaluate_lgbm\n",
    "print(\"Starting\")\n",
    "result = train_and_evaluate_lgbm(reconstructed_impute_dict, window=6)\n",
    "\n",
    "# Access the results\n",
    "print(\"Accuracy:\", result[\"accuracy\"])\n",
    "print(\"\\nClassification Report:\\n\", result[\"classification_report\"])"
   ]
  },
  {
   "cell_type": "code",
   "execution_count": null,
   "id": "e6cc8f6c",
   "metadata": {},
   "outputs": [],
   "source": [
    "patient_record = None\n",
    "for df in reconstructed_impute_dict.values():\n",
    "    patient_record = df\n",
    "    break\n",
    "patient_record.head(100)"
   ]
  }
 ],
 "metadata": {
  "kernelspec": {
   "display_name": "Python 3 (ipykernel)",
   "language": "python",
   "name": "python3"
  },
  "language_info": {
   "codemirror_mode": {
    "name": "ipython",
    "version": 3
   },
   "file_extension": ".py",
   "mimetype": "text/x-python",
   "name": "python",
   "nbconvert_exporter": "python",
   "pygments_lexer": "ipython3",
   "version": "3.11.11"
  }
 },
 "nbformat": 4,
 "nbformat_minor": 5
}
