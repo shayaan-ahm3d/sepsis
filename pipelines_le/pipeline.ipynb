{
 "cells": [
  {
   "cell_type": "code",
   "id": "7c7bd1e4",
   "metadata": {
    "ExecuteTime": {
     "end_time": "2025-04-11T17:36:31.368797Z",
     "start_time": "2025-04-11T17:36:29.657697Z"
    }
   },
   "source": [
    "import lgbm_pipeline.feature_load as loader\n",
    "import lgbm_pipeline.feature_extraction as extractor\n",
    "\n",
    "from tqdm import tqdm\n",
    "import fireducks.pandas as pd\n",
    "%load_ext fireducks.ipyext\n",
    "from sklearn.model_selection import train_test_split, StratifiedKFold\n",
    "from sklearn.metrics import fbeta_score, make_scorer, RocCurveDisplay, ConfusionMatrixDisplay, classification_report\n",
    "import xgboost as xgb"
   ],
   "outputs": [],
   "execution_count": 1
  },
  {
   "cell_type": "code",
   "id": "7c5cedf3",
   "metadata": {
    "ExecuteTime": {
     "end_time": "2025-04-11T17:49:24.048930Z",
     "start_time": "2025-04-11T17:36:55.242390Z"
    }
   },
   "source": "patients: list[pd.DataFrame] = loader.load_training_data(f\"../training_set?/*.psv\", max_files=None)",
   "outputs": [
    {
     "name": "stderr",
     "output_type": "stream",
     "text": [
      "Loading PSV Files: 100%|██████████| 40336/40336 [12:28<00:00, 53.87it/s]  \n"
     ]
    }
   ],
   "execution_count": 3
  },
  {
   "cell_type": "code",
   "id": "5ecbe82b",
   "metadata": {
    "ExecuteTime": {
     "end_time": "2025-04-11T17:53:28.004895Z",
     "start_time": "2025-04-11T17:50:10.053753Z"
    }
   },
   "source": [
    "sepsis_patients: list[pd.DataFrame] = []\n",
    "non_sepsis_patients: list[pd.DataFrame] = []\n",
    "\n",
    "for patient in tqdm(patients, \"Converting indices to time series and splitting sepsis/non-sepsis\"):\n",
    "    patient.index = pd.to_timedelta(patient.index, 'h')\n",
    "    if patient[\"SepsisLabel\"].any():\n",
    "        sepsis_patients.append(patient)\n",
    "    else:\n",
    "        non_sepsis_patients.append(patient)"
   ],
   "outputs": [
    {
     "name": "stderr",
     "output_type": "stream",
     "text": [
      "Converting indices to time series and splitting sepsis/non-sepsis: 100%|██████████| 40336/40336 [03:17<00:00, 203.79it/s]\n"
     ]
    }
   ],
   "execution_count": 4
  },
  {
   "cell_type": "code",
   "execution_count": null,
   "id": "c8d3bdbb",
   "metadata": {},
   "outputs": [],
   "source": [
    "train_sepsis_patients, test_sepsis_patients = train_test_split(sepsis_patients)\n",
    "train_non_sepsis_patients, test_non_sepsis_patients = train_test_split(non_sepsis_patients)\n",
    "\n",
    "ratio: float = len(train_non_sepsis_patients)/len(train_sepsis_patients)\n",
    "print(f\"Ratio: {ratio}\")\n",
    "\n",
    "train_patients: list[pd.DataFrame] = train_sepsis_patients + train_non_sepsis_patients\n",
    "test_patients: list[pd.DataFrame] = test_sepsis_patients + test_non_sepsis_patients\n",
    "\n",
    "print(f\"Number of sepsis patients in training set: {len(train_sepsis_patients)}\")\n",
    "print(f\"Number of non-sepsis patients in training set: {len(train_non_sepsis_patients)}\")\n",
    "print(f\"Number of patients in training set: {len(train_patients)}\\n\")\n",
    "print(f\"Number of sepsis patients in testing set: {len(test_sepsis_patients)}\")\n",
    "print(f\"Number of non-sepsis patients in testing set: {len(test_non_sepsis_patients)}\")\n",
    "print(f\"Number of patients in testing set: {len(test_patients)}\")"
   ]
  },
  {
   "cell_type": "code",
   "execution_count": null,
   "id": "7820767c",
   "metadata": {},
   "outputs": [],
   "source": [
    "train_patients_forward: list[pd.DataFrame] = extractor.fill(train_patients, extractor.FillMethod.FORWARD)\n",
    "train_patients_backward: list[pd.DataFrame] = extractor.fill(train_patients, extractor.FillMethod.BACKWARD)\n",
    "train_patients_linear: list[pd.DataFrame] = extractor.fill(train_patients, extractor.FillMethod.LINEAR)"
   ]
  },
  {
   "cell_type": "code",
   "execution_count": null,
   "id": "01cc4e69",
   "metadata": {},
   "outputs": [],
   "source": [
    "fill_method_to_train_patients: dict[extractor.FillMethod, list[pd.DataFrame]] = {extractor.FillMethod.FORWARD: train_patients_forward,\n",
    "                              extractor.FillMethod.BACKWARD: train_patients_backward,\n",
    "\t\t\t\t\t\t\t  extractor.FillMethod.LINEAR: train_patients_linear}\n",
    "fill_methods_to_use: dict[str, extractor.FillMethod] = extractor.best_fill_method_for_feature(fill_method_to_train_patients)"
   ]
  },
  {
   "cell_type": "code",
   "execution_count": null,
   "id": "7362be54",
   "metadata": {},
   "outputs": [],
   "source": [
    "test_patients_forward: list[pd.DataFrame] = extractor.fill(test_patients, extractor.FillMethod.FORWARD)\n",
    "test_patients_backward: list[pd.DataFrame] = extractor.fill(test_patients, extractor.FillMethod.BACKWARD)\n",
    "test_patients_linear: list[pd.DataFrame] = extractor.fill(test_patients, extractor.FillMethod.LINEAR)"
   ]
  },
  {
   "cell_type": "code",
   "execution_count": null,
   "id": "bfa6e4ff",
   "metadata": {},
   "outputs": [],
   "source": [
    "train_patients_mixed: list[pd.DataFrame] = extractor.mixed_fill(train_patients, train_patients_forward, train_patients_backward, train_patients_linear, fill_methods_to_use)\n",
    "test_patients_mixed: list[pd.DataFrame] = extractor.mixed_fill(test_patients, test_patients_forward, test_patients_backward, test_patients_linear, fill_methods_to_use)"
   ]
  },
  {
   "cell_type": "code",
   "execution_count": null,
   "id": "93333c9e",
   "metadata": {},
   "outputs": [],
   "source": [
    "train = pd.concat(train_patients_mixed)\n",
    "test = pd.concat(test_patients_mixed)\n",
    "\n",
    "X_train = train.drop(columns=\"SepsisLabel\", inplace=False)\n",
    "y_train = train[\"SepsisLabel\"]\n",
    "X_test = test.drop(columns=\"SepsisLabel\", inplace=False)\n",
    "y_test = test[\"SepsisLabel\"]"
   ]
  },
  {
   "cell_type": "code",
   "execution_count": null,
   "id": "fdbe5cfd",
   "metadata": {},
   "outputs": [],
   "source": [
    "f = make_scorer(fbeta_score, beta=20)\n",
    "\n",
    "clf = xgb.XGBClassifier(objective=\"binary:logistic\", eval_metric=\"auc\", scale_pos_weight=ratio)\n",
    "bst = clf.fit(X_train, y_train)"
   ]
  },
  {
   "cell_type": "code",
   "execution_count": null,
   "id": "860673e9",
   "metadata": {},
   "outputs": [],
   "source": [
    "y_pred = bst.predict(X_test)"
   ]
  },
  {
   "cell_type": "code",
   "execution_count": null,
   "id": "dc4e2cbe",
   "metadata": {},
   "outputs": [],
   "source": [
    "RocCurveDisplay.from_predictions(y_test, y_pred)\n",
    "ConfusionMatrixDisplay.from_predictions(y_test, y_pred)\n",
    "print(classification_report(y_test, y_pred))"
   ]
  }
 ],
 "metadata": {
  "kernelspec": {
   "display_name": "Python 3",
   "language": "python",
   "name": "python3"
  },
  "language_info": {
   "codemirror_mode": {
    "name": "ipython",
    "version": 3
   },
   "file_extension": ".py",
   "mimetype": "text/x-python",
   "name": "python",
   "nbconvert_exporter": "python",
   "pygments_lexer": "ipython3",
   "version": "3.13.2"
  }
 },
 "nbformat": 4,
 "nbformat_minor": 5
}
