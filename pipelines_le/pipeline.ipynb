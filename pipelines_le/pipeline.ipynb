{
 "cells": [
  {
   "cell_type": "code",
   "execution_count": null,
   "id": "7c7bd1e4",
   "metadata": {},
   "outputs": [],
   "source": [
    "import os\n",
    "import pickle\n",
    "\n",
    "import lgbm_pipeline.feature_load as loader\n",
    "import lgbm_pipeline.feature_extraction as extractor\n",
    "\n",
    "from tqdm import tqdm\n",
    "import pandas as pd\n",
    "from sklearn.model_selection import train_test_split\n",
    "from sklearn.metrics import fbeta_score, make_scorer, RocCurveDisplay, ConfusionMatrixDisplay, classification_report\n",
    "import lightgbm as lgbm\n",
    "import xgboost as xgb"
   ]
  },
  {
   "cell_type": "code",
   "execution_count": null,
   "id": "7c5cedf3",
   "metadata": {},
   "outputs": [],
   "source": [
    "patients: list[pd.DataFrame] = loader.load_training_data(f\"../training_set?/*.psv\", max_files=None)\n",
    "# f = open(\"patients\", \"w\")\n",
    "# pickle.dump(patients, f)"
   ]
  },
  {
   "cell_type": "code",
   "execution_count": null,
   "id": "5ecbe82b",
   "metadata": {},
   "outputs": [],
   "source": [
    "sepsis_patients: list[pd.DataFrame] = []\n",
    "non_sepsis_patients: list[pd.DataFrame] = []\n",
    "\n",
    "for patient in tqdm(patients, \"Converting indices to timedeltas\"):\n",
    "    patient.index = pd.to_timedelta(patient.index, 'h')\n",
    "    if patient[\"SepsisLabel\"].any():\n",
    "        sepsis_patients.append(patient)\n",
    "    else:\n",
    "        non_sepsis_patients.append(patient)\n",
    "\n",
    "train_sepsis_patients, test_sepsis_patients = train_test_split(sepsis_patients)\n",
    "train_non_sepsis_patients, test_non_sepsis_patients = train_test_split(non_sepsis_patients)\n",
    "\n",
    "ratio: float = len(train_non_sepsis_patients)/len(train_sepsis_patients)\n",
    "print(f\"Ratio: {ratio}\")\n",
    "\n",
    "train_patients: list[pd.DataFrame] = train_sepsis_patients + train_non_sepsis_patients\n",
    "test_patients: list[pd.DataFrame] = test_sepsis_patients + test_non_sepsis_patients\n",
    "\n",
    "print(f\"Number of sepsis patients in training set: {len(train_sepsis_patients)}\")\n",
    "print(f\"Number of non-sepsis patients in training set: {len(train_non_sepsis_patients)}\")\n",
    "print(f\"Number of patients in training set: {len(train_patients)}\\n\")\n",
    "print(f\"Number of sepsis patients in testing set: {len(test_sepsis_patients)}\")\n",
    "print(f\"Number of non-sepsis patients in testing set: {len(test_non_sepsis_patients)}\")\n",
    "print(f\"Number of patients in testing set: {len(test_patients)}\")"
   ]
  },
  {
   "cell_type": "code",
   "execution_count": null,
   "id": "7820767c",
   "metadata": {},
   "outputs": [],
   "source": [
    "train_patients_forward: list[pd.DataFrame] = extractor.fill(train_patients, extractor.FillMethod.FORWARD)\n",
    "train_patients_backward: list[pd.DataFrame] = extractor.fill(train_patients, extractor.FillMethod.BACKWARD)\n",
    "train_patients_linear: list[pd.DataFrame] = extractor.fill(train_patients, extractor.FillMethod.LINEAR)"
   ]
  },
  {
   "cell_type": "code",
   "execution_count": null,
   "id": "01cc4e69",
   "metadata": {},
   "outputs": [],
   "source": [
    "fill_method_to_train_patients: dict[extractor.FillMethod, list[pd.DataFrame]] = {extractor.FillMethod.FORWARD: train_patients_forward,\n",
    "                              extractor.FillMethod.BACKWARD: train_patients_backward,\n",
    "\t\t\t\t\t\t\t  extractor.FillMethod.LINEAR: train_patients_linear}\n",
    "fill_methods_to_use: dict[str, extractor.FillMethod] = extractor.select_best_fill_methods(fill_method_to_train_patients)"
   ]
  },
  {
   "cell_type": "code",
   "execution_count": null,
   "id": "7362be54",
   "metadata": {},
   "outputs": [],
   "source": [
    "test_patients_forward: list[pd.DataFrame] = extractor.fill(test_patients, extractor.FillMethod.FORWARD)\n",
    "test_patients_backward: list[pd.DataFrame] = extractor.fill(test_patients, extractor.FillMethod.BACKWARD)\n",
    "test_patients_linear: list[pd.DataFrame] = extractor.fill(test_patients, extractor.FillMethod.LINEAR)"
   ]
  },
  {
   "cell_type": "code",
   "execution_count": null,
   "id": "bfa6e4ff",
   "metadata": {},
   "outputs": [],
   "source": [
    "train_patients_mixed: list[pd.DataFrame] = extractor.mixed_fill(train_patients, train_patients_forward, train_patients_backward, train_patients_linear, fill_methods_to_use)\n",
    "test_patients_mixed: list[pd.DataFrame] = extractor.mixed_fill(test_patients, test_patients_forward, test_patients_backward, test_patients_linear, fill_methods_to_use)"
   ]
  },
  {
   "cell_type": "code",
   "execution_count": null,
   "id": "ed0ebdb2",
   "metadata": {},
   "outputs": [],
   "source": [
    "# Find the maximum length of the DataFrames in train_patients_mixed\n",
    "max_length: int = max(len(df) for df in train_patients_mixed)\n",
    "\n",
    "# Adjust the length of each DataFrame in X_train to match the maximum length and forward-fill missing values\n",
    "X_train: list[pd.DataFrame] = []\n",
    "y_train: list[pd.Series] = []\n",
    "\n",
    "for j in tqdm(range(len(train_patients_mixed)), \"Extending indices and splitting into (X_train, y_train)\"):\n",
    "    train_df: pd.DataFrame = train_patients_mixed[j]\n",
    "    # Generate a new index that extends to the maximum length\n",
    "    new_index = pd.timedelta_range(start=train_df.index[0], periods=max_length, freq='h')\n",
    "    train_df = train_df.reindex(new_index).ffill()  # Reindex to the new index and forward-fill\n",
    "    X_train.append(train_df.drop(columns=\"SepsisLabel\", inplace=False))\n",
    "    y_train.append(train_df[\"SepsisLabel\"])\n",
    "\n",
    "# Adjust the length of each DataFrame in X_test similarly\n",
    "X_test = []\n",
    "y_test = []\n",
    "\n",
    "for k in tqdm(range(len(test_patients_mixed)), \"Extending indices and splitting into (X_test, y_test)\"):\n",
    "    test_df: pd.DataFrame = test_patients_mixed[k]\n",
    "    new_index = pd.timedelta_range(start=test_df.index[0], periods=max_length, freq='h')\n",
    "    test_df = test_df.reindex(new_index).ffill()\n",
    "    X_test.append(test_df.drop(columns=\"SepsisLabel\", inplace=False))\n",
    "    y_test.append(test_df[\"SepsisLabel\"])"
   ]
  },
  {
   "cell_type": "code",
   "execution_count": null,
   "id": "93333c9e",
   "metadata": {},
   "outputs": [],
   "source": [
    "X_train = pd.concat(X_train)\n",
    "y_train = pd.concat(y_train)"
   ]
  },
  {
   "cell_type": "code",
   "execution_count": null,
   "id": "fdbe5cfd",
   "metadata": {},
   "outputs": [],
   "source": [
    "f = make_scorer(fbeta_score, beta=1)\n",
    "\n",
    "clf = xgb.XGBClassifier(objective=\"binary:logistic\", eval_metric=f, scale_pos_weight=ratio)\n",
    "bst = clf.fit(X_train, y_train)"
   ]
  },
  {
   "cell_type": "code",
   "execution_count": null,
   "id": "860673e9",
   "metadata": {},
   "outputs": [],
   "source": [
    "y_pred = bst.predict(X_test)"
   ]
  },
  {
   "cell_type": "code",
   "execution_count": null,
   "id": "dc4e2cbe",
   "metadata": {},
   "outputs": [],
   "source": [
    "RocCurveDisplay.from_predictions(y_test, y_pred)\n",
    "ConfusionMatrixDisplay.from_predictions(y_test, y_pred)\n",
    "print(classification_report(y_test, y_pred))"
   ]
  }
 ],
 "metadata": {
  "kernelspec": {
   "display_name": "AppliedDataScience",
   "language": "python",
   "name": "python3"
  },
  "language_info": {
   "codemirror_mode": {
    "name": "ipython",
    "version": 3
   },
   "file_extension": ".py",
   "mimetype": "text/x-python",
   "name": "python",
   "nbconvert_exporter": "python",
   "pygments_lexer": "ipython3",
   "version": "3.12.8"
  }
 },
 "nbformat": 4,
 "nbformat_minor": 5
}
