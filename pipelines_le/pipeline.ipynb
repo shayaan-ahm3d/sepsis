{
 "cells": [
  {
   "cell_type": "code",
   "execution_count": null,
   "id": "7c7bd1e4",
   "metadata": {
    "ExecuteTime": {
     "end_time": "2025-04-12T01:47:19.908548Z",
     "start_time": "2025-04-12T01:47:18.401511Z"
    }
   },
   "outputs": [],
   "source": [
    "import lgbm_pipeline.feature_load as loader\n",
    "import lgbm_pipeline.feature_extraction as extractor\n",
    "from lgbm_pipeline.feature_extraction import create_windows\n",
    "\n",
    "from tqdm import tqdm\n",
    "import fireducks.pandas as pd\n",
    "%load_ext fireducks.ipyext\n",
    "from sklearn.model_selection import train_test_split, StratifiedKFold\n",
    "from sklearn.metrics import fbeta_score, make_scorer, RocCurveDisplay, ConfusionMatrixDisplay, classification_report\n",
    "import xgboost as xgb"
   ]
  },
  {
   "cell_type": "code",
   "execution_count": null,
   "id": "7c5cedf3",
   "metadata": {
    "ExecuteTime": {
     "end_time": "2025-04-12T01:47:21.173721Z",
     "start_time": "2025-04-12T01:47:20.973902Z"
    }
   },
   "outputs": [],
   "source": [
    "patients: pd.DataFrame = loader.load_data(\"../training_set?/*.psv\", max_files=None)"
   ]
  },
  {
   "cell_type": "code",
   "execution_count": null,
   "id": "5ecbe82b",
   "metadata": {},
   "outputs": [],
   "source": [
    "sepsis_patients: list[pd.DataFrame] = []\n",
    "non_sepsis_patients: list[pd.DataFrame] = []\n",
    "\n",
    "for patient in tqdm(patients, \"Converting indices to time series and splitting sepsis/non-sepsis\"):\n",
    "\tpatient.index = pd.to_timedelta(patient.index, 'h')\n",
    "\tif patient[\"SepsisLabel\"].any():\n",
    "\t\tsepsis_patients.append(patient)\n",
    "\telse:\n",
    "\t\tnon_sepsis_patients.append(patient)"
   ]
  },
  {
   "cell_type": "code",
   "execution_count": null,
   "id": "4a8d8881a0e5b519",
   "metadata": {},
   "outputs": [],
   "source": [
    "train_sepsis_patients, test_sepsis_patients = train_test_split(sepsis_patients, random_state=42)\n",
    "train_non_sepsis_patients, test_non_sepsis_patients = train_test_split(non_sepsis_patients, random_state=42)"
   ]
  },
  {
   "cell_type": "code",
   "execution_count": null,
   "id": "d4452b9bd48281a",
   "metadata": {},
   "outputs": [],
   "source": [
    "from sklearn.utils import shuffle\n",
    "\n",
    "train_non_sepsis_patients = shuffle(train_non_sepsis_patients, random_state=42, n_samples=len(train_sepsis_patients))"
   ]
  },
  {
   "cell_type": "code",
   "execution_count": null,
   "id": "c8d3bdbb",
   "metadata": {},
   "outputs": [],
   "source": [
    "ratio: float = len(train_non_sepsis_patients) / len(train_sepsis_patients)\n",
    "print(f\"Ratio: {ratio}\")\n",
    "\n",
    "train_patients: list[pd.DataFrame] = train_sepsis_patients + train_non_sepsis_patients\n",
    "test_patients: list[pd.DataFrame] = test_sepsis_patients + test_non_sepsis_patients\n",
    "\n",
    "print(f\"Number of sepsis patients in training set: {len(train_sepsis_patients)}\")\n",
    "print(f\"Number of non-sepsis patients in training set: {len(train_non_sepsis_patients)}\")\n",
    "print(f\"Number of patients in training set: {len(train_patients)}\\n\")\n",
    "print(f\"Number of sepsis patients in testing set: {len(test_sepsis_patients)}\")\n",
    "print(f\"Number of non-sepsis patients in testing set: {len(test_non_sepsis_patients)}\")\n",
    "print(f\"Number of patients in testing set: {len(test_patients)}\")"
   ]
  },
  {
   "cell_type": "code",
   "execution_count": null,
   "id": "7820767c",
   "metadata": {
    "jupyter": {
     "is_executing": true
    }
   },
   "outputs": [],
   "source": [
    "train_patients_forward: list[pd.DataFrame] = extractor.fill(train_patients, extractor.FillMethod.FORWARD)\n",
    "train_patients_backward: list[pd.DataFrame] = extractor.fill(train_patients, extractor.FillMethod.BACKWARD)\n",
    "train_patients_linear: list[pd.DataFrame] = extractor.fill(train_patients, extractor.FillMethod.LINEAR)"
   ]
  },
  {
   "cell_type": "code",
   "execution_count": null,
   "id": "01cc4e69",
   "metadata": {},
   "outputs": [],
   "source": [
    "fill_method_to_train_patients: dict[extractor.FillMethod, list[pd.DataFrame]] = {\n",
    "\textractor.FillMethod.FORWARD : train_patients_forward,\n",
    "\textractor.FillMethod.BACKWARD: train_patients_backward,\n",
    "\textractor.FillMethod.LINEAR  : train_patients_linear}\n",
    "fill_methods_to_use: dict[str, extractor.FillMethod] = extractor.best_fill_method_for_feature(\n",
    "\tfill_method_to_train_patients)\n",
    "train_patients_mixed: list[pd.DataFrame] = extractor.mixed_fill(train_patients, train_patients_forward,\n",
    "                                                                train_patients_backward, train_patients_linear,\n",
    "                                                                fill_methods_to_use)"
   ]
  },
  {
   "cell_type": "code",
   "execution_count": null,
   "id": "7362be54",
   "metadata": {},
   "outputs": [],
   "source": [
    "test_patients_forward: list[pd.DataFrame] = extractor.fill(test_patients, extractor.FillMethod.FORWARD)\n",
    "test_patients_backward: list[pd.DataFrame] = extractor.fill(test_patients, extractor.FillMethod.BACKWARD)\n",
    "test_patients_linear: list[pd.DataFrame] = extractor.fill(test_patients, extractor.FillMethod.LINEAR)\n",
    "test_patients_mixed: list[pd.DataFrame] = extractor.mixed_fill(test_patients, test_patients_forward,\n",
    "                                                               test_patients_backward, test_patients_linear,\n",
    "                                                               fill_methods_to_use)"
   ]
  },
  {
   "cell_type": "code",
   "execution_count": null,
   "id": "995d242b03f28c3d",
   "metadata": {},
   "outputs": [],
   "source": [
    "for patient in train_patients_mixed:\n",
    "\tcreate_windows(patient)\n",
    "for patient in test_patients_mixed:\n",
    "\tcreate_windows(patient)"
   ]
  },
  {
   "cell_type": "code",
   "execution_count": null,
   "id": "93333c9e",
   "metadata": {},
   "outputs": [],
   "source": [
    "train = pd.concat(train_patients_mixed)\n",
    "test = pd.concat(test_patients_mixed)\n",
    "\n",
    "X_train = train.drop(columns=\"SepsisLabel\", inplace=False)\n",
    "y_train = train[\"SepsisLabel\"]\n",
    "X_test = test.drop(columns=\"SepsisLabel\", inplace=False)\n",
    "y_test = test[\"SepsisLabel\"]"
   ]
  },
  {
   "cell_type": "code",
   "execution_count": null,
   "id": "fdbe5cfd",
   "metadata": {},
   "outputs": [],
   "source": [
    "f = make_scorer(fbeta_score, beta=5.5)\n",
    "\n",
    "clf = xgb.XGBClassifier(objective=\"binary:logistic\", eval_metric=\"auc\", scale_pos_weight=ratio)\n",
    "bst = clf.fit(X_train, y_train)"
   ]
  },
  {
   "cell_type": "code",
   "execution_count": null,
   "id": "860673e9",
   "metadata": {},
   "outputs": [],
   "source": [
    "y_pred = bst.predict(X_test)"
   ]
  },
  {
   "cell_type": "code",
   "execution_count": null,
   "id": "dc4e2cbe",
   "metadata": {},
   "outputs": [],
   "source": [
    "RocCurveDisplay.from_predictions(y_test, y_pred)\n",
    "ConfusionMatrixDisplay.from_predictions(y_test, y_pred)\n",
    "print(classification_report(y_test, y_pred))"
   ]
  }
 ],
 "metadata": {
  "kernelspec": {
   "display_name": "AppliedDataScience",
   "language": "python",
   "name": "python3"
  },
  "language_info": {
   "codemirror_mode": {
    "name": "ipython",
    "version": 3
   },
   "file_extension": ".py",
   "mimetype": "text/x-python",
   "name": "python",
   "nbconvert_exporter": "python",
   "pygments_lexer": "ipython3",
   "version": "3.12.8"
  }
 },
 "nbformat": 4,
 "nbformat_minor": 5
}
