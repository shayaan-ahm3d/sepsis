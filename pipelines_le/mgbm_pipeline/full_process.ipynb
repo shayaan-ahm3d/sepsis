{
 "cells": [
  {
   "cell_type": "markdown",
   "id": "db9b1a57-9275-4251-8942-24739d27660b",
   "metadata": {},
   "source": [
    "# Import Modules"
   ]
  },
  {
   "cell_type": "code",
   "execution_count": 156,
   "id": "12c36398-451d-47f2-80f6-b144335ca947",
   "metadata": {},
   "outputs": [],
   "source": [
    "import sys\n",
    "import os\n",
    "import pandas as pd\n",
    "import tqdm as tqdm\n",
    "import xgboost as xgb\n",
    "import numpy as np\n",
    "\n",
    "# Import your custom modules. Adjust the module paths as needed.\n",
    "from src.data.load_data import loadTrainingData\n",
    "from sklearn.model_selection import train_test_split\n",
    "from src.features.create_feature_vectors import extract_features_with_expanding_window\n",
    "from src.plots.feature_plots import plot_roc_auc, plot_confusion_matrix\n",
    "from sklearn.metrics import classification_report,fbeta_score,confusion_matrix\n",
    "from sklearn import set_config\n",
    "\n",
    "set_config(display=\"text\")\n"
   ]
  },
  {
   "cell_type": "markdown",
   "id": "828a24e3-604f-480b-b4dc-d4b64d27e42f",
   "metadata": {},
   "source": [
    "# Load Data"
   ]
  },
  {
   "cell_type": "code",
   "execution_count": 157,
   "id": "05489049-de4b-4388-a44c-b1fdd0ffa790",
   "metadata": {},
   "outputs": [
    {
     "name": "stdout",
     "output_type": "stream",
     "text": [
      "\n",
      "Loading data from: ../../training_setA/*.psv with max_files=None\n"
     ]
    },
    {
     "name": "stderr",
     "output_type": "stream",
     "text": [
      "Loading PSV Files: 100%|██████████| 20336/20336 [00:20<00:00, 1002.19it/s]\n"
     ]
    },
    {
     "name": "stdout",
     "output_type": "stream",
     "text": [
      "\n",
      "Loading data from: ../../training_setB/*.psv with max_files=None\n"
     ]
    },
    {
     "name": "stderr",
     "output_type": "stream",
     "text": [
      "Loading PSV Files: 100%|██████████| 20000/20000 [00:22<00:00, 875.95it/s] \n"
     ]
    }
   ],
   "source": [
    "directories = ['../../training_setA/', '../../training_setB/']\n",
    "max_files = None  # Adjust as needed\n",
    "\n",
    "patient_dict = {}\n",
    "\n",
    "for directory in directories:\n",
    "    pattern = os.path.join(directory, \"*.psv\")\n",
    "    print(f\"\\nLoading data from: {pattern} with max_files={max_files}\")\n",
    "    patient_data = loadTrainingData(\n",
    "        pattern,\n",
    "        max_files,\n",
    "        ignore_columns=['Age', 'Gender', 'Unit1', 'Unit2', 'HospAdmTime']\n",
    "    )\n",
    "    patient_dict.update(patient_data)"
   ]
  },
  {
   "cell_type": "markdown",
   "id": "db37c0e8-118e-47f3-9e01-b1fedb150dfd",
   "metadata": {},
   "source": [
    "# Create Feature Vectors"
   ]
  },
  {
   "cell_type": "code",
   "execution_count": null,
   "id": "c028cab8-4b58-46ee-a4b9-3c3a7e81c9d5",
   "metadata": {
    "scrolled": true
   },
   "outputs": [
    {
     "name": "stdout",
     "output_type": "stream",
     "text": [
      "Combined data shape: (1552210, 36)\n"
     ]
    },
    {
     "name": "stderr",
     "output_type": "stream",
     "text": [
      "Extracting features with expanding window:   0%|          | 0/40336 [00:00<?, ?it/s][Parallel(n_jobs=-1)]: Using backend LokyBackend with 8 concurrent workers.\n",
      "Extracting features with expanding window:   0%|          | 16/40336 [00:00<19:28, 34.49it/s][Parallel(n_jobs=-1)]: Done   2 tasks      | elapsed:    0.6s\n",
      "Extracting features with expanding window:   0%|          | 64/40336 [00:02<22:33, 29.75it/s][Parallel(n_jobs=-1)]: Done  56 tasks      | elapsed:    3.0s\n",
      "Extracting features with expanding window:   0%|          | 160/40336 [00:05<18:51, 35.51it/s][Parallel(n_jobs=-1)]: Done 146 tasks      | elapsed:    6.0s\n",
      "Extracting features with expanding window:   1%|          | 280/40336 [00:09<16:29, 40.50it/s][Parallel(n_jobs=-1)]: Done 272 tasks      | elapsed:    9.5s\n",
      "Extracting features with expanding window:   1%|          | 448/40336 [00:14<20:56, 31.74it/s][Parallel(n_jobs=-1)]: Done 434 tasks      | elapsed:   15.0s\n",
      "Extracting features with expanding window:   2%|▏         | 640/40336 [00:19<18:54, 35.00it/s][Parallel(n_jobs=-1)]: Done 632 tasks      | elapsed:   20.2s\n",
      "Extracting features with expanding window:   2%|▏         | 880/40336 [00:25<17:49, 36.88it/s][Parallel(n_jobs=-1)]: Done 866 tasks      | elapsed:   26.0s\n",
      "Extracting features with expanding window:   3%|▎         | 1144/40336 [00:32<13:20, 48.93it/s][Parallel(n_jobs=-1)]: Done 1136 tasks      | elapsed:   32.4s\n",
      "Extracting features with expanding window:   4%|▎         | 1456/40336 [00:40<19:02, 34.04it/s][Parallel(n_jobs=-1)]: Done 1442 tasks      | elapsed:   40.3s\n",
      "Extracting features with expanding window:   4%|▍         | 1792/40336 [00:49<14:00, 45.83it/s][Parallel(n_jobs=-1)]: Done 1784 tasks      | elapsed:   49.5s\n",
      "Extracting features with expanding window:   5%|▌         | 2176/40336 [00:58<14:12, 44.75it/s][Parallel(n_jobs=-1)]: Done 2162 tasks      | elapsed:   58.6s\n",
      "Extracting features with expanding window:   6%|▋         | 2584/40336 [01:07<13:42, 45.92it/s][Parallel(n_jobs=-1)]: Done 2576 tasks      | elapsed:  1.1min\n",
      "Extracting features with expanding window:   8%|▊         | 3040/40336 [01:17<13:27, 46.17it/s][Parallel(n_jobs=-1)]: Done 3026 tasks      | elapsed:  1.3min\n",
      "Extracting features with expanding window:   9%|▊         | 3520/40336 [01:29<14:40, 41.83it/s][Parallel(n_jobs=-1)]: Done 3512 tasks      | elapsed:  1.5min\n",
      "Extracting features with expanding window:  10%|█         | 4048/40336 [01:41<15:04, 40.12it/s][Parallel(n_jobs=-1)]: Done 4034 tasks      | elapsed:  1.7min\n",
      "Extracting features with expanding window:  11%|█▏        | 4600/40336 [01:58<16:08, 36.90it/s][Parallel(n_jobs=-1)]: Done 4592 tasks      | elapsed:  2.0min\n",
      "Extracting features with expanding window:  13%|█▎        | 5200/40336 [02:12<14:46, 39.66it/s][Parallel(n_jobs=-1)]: Done 5186 tasks      | elapsed:  2.2min\n",
      "Extracting features with expanding window:  14%|█▍        | 5824/40336 [02:27<15:40, 36.70it/s][Parallel(n_jobs=-1)]: Done 5816 tasks      | elapsed:  2.5min\n",
      "Extracting features with expanding window:  16%|█▌        | 6496/40336 [02:45<18:31, 30.45it/s][Parallel(n_jobs=-1)]: Done 6482 tasks      | elapsed:  2.8min\n",
      "Extracting features with expanding window:  18%|█▊        | 7192/40336 [03:05<15:20, 36.01it/s][Parallel(n_jobs=-1)]: Done 7184 tasks      | elapsed:  3.1min\n",
      "Extracting features with expanding window:  20%|█▉        | 7936/40336 [03:30<25:17, 21.35it/s][Parallel(n_jobs=-1)]: Done 7922 tasks      | elapsed:  3.5min\n",
      "Extracting features with expanding window:  22%|██▏       | 8704/40336 [03:51<11:20, 46.49it/s][Parallel(n_jobs=-1)]: Done 8696 tasks      | elapsed:  3.9min\n",
      "Extracting features with expanding window:  24%|██▎       | 9520/40336 [04:09<10:58, 46.82it/s][Parallel(n_jobs=-1)]: Done 9506 tasks      | elapsed:  4.2min\n",
      "Extracting features with expanding window:  26%|██▌       | 10360/40336 [04:28<10:21, 48.21it/s][Parallel(n_jobs=-1)]: Done 10352 tasks      | elapsed:  4.5min\n",
      "Extracting features with expanding window:  28%|██▊       | 11248/40336 [04:47<11:52, 40.84it/s][Parallel(n_jobs=-1)]: Done 11234 tasks      | elapsed:  4.8min\n",
      "Extracting features with expanding window:  30%|███       | 12160/40336 [05:09<11:07, 42.24it/s][Parallel(n_jobs=-1)]: Done 12152 tasks      | elapsed:  5.2min\n",
      "Extracting features with expanding window:  33%|███▎      | 13120/40336 [05:33<10:14, 44.30it/s][Parallel(n_jobs=-1)]: Done 13106 tasks      | elapsed:  5.6min\n",
      "Extracting features with expanding window:  35%|███▍      | 14104/40336 [05:56<08:50, 49.44it/s][Parallel(n_jobs=-1)]: Done 14096 tasks      | elapsed:  5.9min\n",
      "Extracting features with expanding window:  38%|███▊      | 15136/40336 [06:18<07:52, 53.31it/s][Parallel(n_jobs=-1)]: Done 15122 tasks      | elapsed:  6.3min\n",
      "Extracting features with expanding window:  40%|████      | 16192/40336 [06:46<13:24, 30.02it/s][Parallel(n_jobs=-1)]: Done 16184 tasks      | elapsed:  6.8min\n",
      "Extracting features with expanding window:  43%|████▎     | 17296/40336 [07:18<10:26, 36.79it/s][Parallel(n_jobs=-1)]: Done 17282 tasks      | elapsed:  7.3min\n",
      "Extracting features with expanding window:  46%|████▌     | 18424/40336 [07:46<08:14, 44.35it/s][Parallel(n_jobs=-1)]: Done 18416 tasks      | elapsed:  7.8min\n",
      "Extracting features with expanding window:  49%|████▊     | 19600/40336 [08:14<07:46, 44.46it/s][Parallel(n_jobs=-1)]: Done 19586 tasks      | elapsed:  8.2min\n",
      "Extracting features with expanding window:  52%|█████▏    | 20800/40336 [09:04<08:25, 38.63it/s]  [Parallel(n_jobs=-1)]: Done 20792 tasks      | elapsed:  9.1min\n",
      "Extracting features with expanding window:  55%|█████▍    | 22048/40336 [09:42<08:18, 36.65it/s][Parallel(n_jobs=-1)]: Done 22034 tasks      | elapsed:  9.7min\n",
      "Extracting features with expanding window:  58%|█████▊    | 23320/40336 [10:15<07:41, 36.85it/s][Parallel(n_jobs=-1)]: Done 23312 tasks      | elapsed: 10.3min\n",
      "Extracting features with expanding window:  61%|██████    | 24640/40336 [10:47<06:49, 38.36it/s][Parallel(n_jobs=-1)]: Done 24626 tasks      | elapsed: 10.8min\n",
      "Extracting features with expanding window:  64%|██████▍   | 25984/40336 [11:21<05:24, 44.25it/s][Parallel(n_jobs=-1)]: Done 25976 tasks      | elapsed: 11.4min\n",
      "Extracting features with expanding window:  68%|██████▊   | 27376/40336 [11:54<05:32, 38.92it/s][Parallel(n_jobs=-1)]: Done 27362 tasks      | elapsed: 11.9min\n",
      "Extracting features with expanding window:  71%|███████▏  | 28792/40336 [12:26<04:03, 47.48it/s][Parallel(n_jobs=-1)]: Done 28784 tasks      | elapsed: 12.4min\n",
      "Extracting features with expanding window:  75%|███████▌  | 30256/40336 [13:01<07:12, 23.31it/s][Parallel(n_jobs=-1)]: Done 30242 tasks      | elapsed: 13.0min\n",
      "Extracting features with expanding window:  79%|███████▊  | 31744/40336 [13:39<03:17, 43.59it/s][Parallel(n_jobs=-1)]: Done 31736 tasks      | elapsed: 13.7min\n",
      "Extracting features with expanding window:  83%|████████▎ | 33280/40336 [14:18<02:28, 47.47it/s][Parallel(n_jobs=-1)]: Done 33266 tasks      | elapsed: 14.3min\n",
      "Extracting features with expanding window:  86%|████████▋ | 34840/40336 [14:57<01:50, 49.55it/s][Parallel(n_jobs=-1)]: Done 34832 tasks      | elapsed: 15.0min\n",
      "Extracting features with expanding window:  90%|█████████ | 36448/40336 [16:14<01:37, 40.00it/s]  [Parallel(n_jobs=-1)]: Done 36434 tasks      | elapsed: 16.3min\n",
      "Extracting features with expanding window:  94%|█████████▍| 38080/40336 [16:58<01:15, 30.06it/s][Parallel(n_jobs=-1)]: Done 38072 tasks      | elapsed: 17.0min\n",
      "Extracting features with expanding window:  99%|█████████▊| 39760/40336 [17:38<00:12, 46.12it/s][Parallel(n_jobs=-1)]: Done 39746 tasks      | elapsed: 17.6min\n",
      "Extracting features with expanding window: 100%|██████████| 40336/40336 [17:50<00:00, 37.69it/s]\n",
      "[Parallel(n_jobs=-1)]: Done 40336 out of 40336 | elapsed: 17.9min finished\n"
     ]
    }
   ],
   "source": [
    "feature_df = extract_features_with_expanding_window(patient_dict)"
   ]
  },
  {
   "cell_type": "markdown",
   "id": "808951b3",
   "metadata": {},
   "source": [
    " # Save or Load Feature"
   ]
  },
  {
   "cell_type": "code",
   "execution_count": null,
   "id": "5700a520",
   "metadata": {},
   "outputs": [],
   "source": [
    "def save_feature_data(feature_df, file_path=\"feature_data.pkl\"):\n",
    "    feature_df.to_pickle(file_path)\n",
    "    print(f\"Feature data saved to {file_path}\")\n",
    "\n",
    "def load_feature_data(file_path=\"feature_data.pkl\"):\n",
    "    feature_df = pd.read_pickle(file_path)\n",
    "    print(f\"Feature data loaded from {file_path}\")\n",
    "    return feature_df\n",
    "\n",
    "# feature_df = load_feature_data()\n",
    "save_feature_data(feature_df)"
   ]
  },
  {
   "cell_type": "markdown",
   "id": "fc75734e",
   "metadata": {},
   "source": [
    "# Add/Remove features"
   ]
  },
  {
   "cell_type": "code",
   "execution_count": null,
   "id": "90b7cca6-67b7-4ade-b12b-023841fb1f03",
   "metadata": {},
   "outputs": [
    {
     "data": {
      "text/plain": [
       "Index(['HR_ns_NaN', 'HR_sw_mean_5', 'HR_sw_min_5', 'HR_sw_max_5',\n",
       "       'HR_sw_median_5', 'HR_sw_var_5', 'HR_sw_q95_5', 'HR_sw_q99_5',\n",
       "       'HR_sw_q05_5', 'HR_sw_q01_5',\n",
       "       ...\n",
       "       'TroponinI', 'Hct', 'Hgb', 'PTT', 'WBC', 'Fibrinogen', 'Platelets',\n",
       "       'ICULOS', 'SepsisLabel', 'patient_id'],\n",
       "      dtype='object', length=275)"
      ]
     },
     "execution_count": 148,
     "metadata": {},
     "output_type": "execute_result"
    }
   ],
   "source": [
    "feature_df.columns"
   ]
  },
  {
   "cell_type": "markdown",
   "id": "457e773c",
   "metadata": {},
   "source": [
    "# Split Sets into Test and Train on Patient ID of Dictionary"
   ]
  },
  {
   "cell_type": "code",
   "execution_count": null,
   "id": "06ee34ed",
   "metadata": {},
   "outputs": [
    {
     "name": "stdout",
     "output_type": "stream",
     "text": [
      "Number of SEPSIS patients: 142\n",
      "Number of NON-SEPSIS patients: 1858\n",
      "Train SEPSIS: 105, NON-SEPSIS: 1495\n",
      "Test SEPSIS: 37, NON-SEPSIS: 363\n"
     ]
    }
   ],
   "source": [
    "# Group rows by patient_id to create a patient-wise dictionary.\n",
    "patient_groups = {patient_id: group \n",
    "                  for patient_id, group in feature_df.groupby(\"patient_id\")}\n",
    "\n",
    "# Create a new dictionary with keys indicating sepsis status.\n",
    "# For each patient, if any row's SepsisLabel equals 1, mark that patient as sepsis.\n",
    "labeled_patients = {}\n",
    "for patient_id, df in patient_groups.items():\n",
    "    # Check if the patient ever had sepsis\n",
    "    sepsis_label = \"1\" if df[\"SepsisLabel\"].any() else \"0\"\n",
    "    new_key = f\"{patient_id}_{sepsis_label}\"\n",
    "    labeled_patients[new_key] = df\n",
    "\n",
    "# Optional: Print counts to verify split counts\n",
    "sepsis_count = sum(1 for key in labeled_patients if key.endswith('_1'))\n",
    "nonsepsis_count = sum(1 for key in labeled_patients if key.endswith('_0'))\n",
    "print(f\"Number of SEPSIS patients: {sepsis_count}\")\n",
    "print(f\"Number of NON-SEPSIS patients: {nonsepsis_count}\")\n",
    "\n",
    "# Now, create a list of keys and a matching list of binary labels for stratification.\n",
    "keys = list(labeled_patients.keys())\n",
    "labels = [1 if key.endswith('_sepsis') else 0 for key in keys]  # 1 = sepsis, 0 = no sepsis\n",
    "\n",
    "# Split the keys into train and test sets while maintaining the sepsis proportion.\n",
    "train_keys, test_keys, _, _ = train_test_split(\n",
    "    keys, labels, test_size=0.2, random_state=42, stratify=labels\n",
    ")\n",
    "\n",
    "# Build train and test dictionaries from the split keys.\n",
    "train_data_dict = {key: labeled_patients[key] for key in train_keys}\n",
    "test_data_dict = {key: labeled_patients[key] for key in test_keys}\n",
    "\n",
    "# Optional: Verify the stratification in your splits.\n",
    "train_sepsis = sum(1 for key in train_data_dict if key.endswith('_1'))\n",
    "test_sepsis = sum(1 for key in test_data_dict if key.endswith('_1'))\n",
    "print(f\"Train SEPSIS: {train_sepsis}, NON-SEPSIS: {len(train_data_dict) - train_sepsis}\")\n",
    "print(f\"Test SEPSIS: {test_sepsis}, NON-SEPSIS: {len(test_data_dict) - test_sepsis}\")\n",
    "\n",
    "# If needed, you can also concatenate these dictionaries back into DataFrames:\n",
    "train_df = pd.concat(train_data_dict.values(), ignore_index=True)\n",
    "test_df = pd.concat(test_data_dict.values(), ignore_index=True)\n",
    "\n",
    "train_df = train_df.drop(columns=['patient_id'])\n",
    "test_df = test_df.drop(columns=['patient_id'])"
   ]
  },
  {
   "cell_type": "markdown",
   "id": "80c6ed77",
   "metadata": {},
   "source": [
    "#  Train Model"
   ]
  },
  {
   "cell_type": "code",
   "execution_count": null,
   "id": "364e2755",
   "metadata": {},
   "outputs": [
    {
     "name": "stdout",
     "output_type": "stream",
     "text": [
      "Negative samples of Train: 61374, Positive samples of Train: 1008\n",
      "Negative samples of Test: 14681, Positive samples of Test: 352\n"
     ]
    }
   ],
   "source": [
    "# Separate features and target\n",
    "X_train = train_df.drop(columns=[\"SepsisLabel\"], errors=\"ignore\")\n",
    "y_train = train_df[\"SepsisLabel\"]\n",
    "\n",
    "X_test = test_df.drop(columns=[\"SepsisLabel\"], errors=\"ignore\")\n",
    "y_test = test_df[\"SepsisLabel\"]\n",
    "\n",
    "neg_samples, pos_samples = y_train.value_counts()\n",
    "neg_samples_test, pos_samples_test = y_test.value_counts()\n",
    "print(f\"Negative samples of Train: {neg_samples}, Positive samples of Train: {pos_samples}\")\n",
    "print(f\"Negative samples of Test: {neg_samples_test}, Positive samples of Test: {pos_samples_test}\")"
   ]
  },
  {
   "cell_type": "code",
   "execution_count": null,
   "id": "6e863f94-5775-43b3-bcf3-90267658a8de",
   "metadata": {},
   "outputs": [
    {
     "name": "stdout",
     "output_type": "stream",
     "text": [
      "[0]\tvalidation_0-auc:0.60165\n",
      "[1]\tvalidation_0-auc:0.63529\n",
      "[2]\tvalidation_0-auc:0.67051\n",
      "[3]\tvalidation_0-auc:0.65068\n",
      "[4]\tvalidation_0-auc:0.64882\n",
      "[5]\tvalidation_0-auc:0.62977\n",
      "[6]\tvalidation_0-auc:0.63448\n",
      "[7]\tvalidation_0-auc:0.64033\n",
      "[8]\tvalidation_0-auc:0.64377\n",
      "[9]\tvalidation_0-auc:0.64482\n",
      "[10]\tvalidation_0-auc:0.65016\n",
      "[11]\tvalidation_0-auc:0.64734\n",
      "[12]\tvalidation_0-auc:0.65516\n",
      "[13]\tvalidation_0-auc:0.64840\n",
      "[14]\tvalidation_0-auc:0.64745\n",
      "[15]\tvalidation_0-auc:0.64875\n",
      "[16]\tvalidation_0-auc:0.64956\n",
      "[17]\tvalidation_0-auc:0.66097\n",
      "[18]\tvalidation_0-auc:0.65631\n",
      "[19]\tvalidation_0-auc:0.64904\n",
      "[20]\tvalidation_0-auc:0.65144\n",
      "[21]\tvalidation_0-auc:0.63797\n",
      "[22]\tvalidation_0-auc:0.64550\n",
      "[23]\tvalidation_0-auc:0.64661\n",
      "[24]\tvalidation_0-auc:0.64888\n",
      "[25]\tvalidation_0-auc:0.64890\n",
      "[26]\tvalidation_0-auc:0.64813\n",
      "[27]\tvalidation_0-auc:0.65581\n",
      "[28]\tvalidation_0-auc:0.64987\n",
      "[29]\tvalidation_0-auc:0.64701\n",
      "[30]\tvalidation_0-auc:0.64315\n",
      "[31]\tvalidation_0-auc:0.64109\n",
      "[32]\tvalidation_0-auc:0.64387\n",
      "[33]\tvalidation_0-auc:0.64538\n",
      "[34]\tvalidation_0-auc:0.64735\n",
      "[35]\tvalidation_0-auc:0.65007\n",
      "[36]\tvalidation_0-auc:0.64574\n",
      "[37]\tvalidation_0-auc:0.64533\n",
      "[38]\tvalidation_0-auc:0.64854\n",
      "[39]\tvalidation_0-auc:0.64959\n",
      "[40]\tvalidation_0-auc:0.65220\n",
      "[41]\tvalidation_0-auc:0.65552\n",
      "[42]\tvalidation_0-auc:0.65763\n",
      "[43]\tvalidation_0-auc:0.65775\n",
      "[44]\tvalidation_0-auc:0.65449\n",
      "[45]\tvalidation_0-auc:0.65560\n",
      "[46]\tvalidation_0-auc:0.65747\n",
      "[47]\tvalidation_0-auc:0.65821\n",
      "[48]\tvalidation_0-auc:0.65667\n",
      "[49]\tvalidation_0-auc:0.66032\n",
      "[50]\tvalidation_0-auc:0.65717\n",
      "[51]\tvalidation_0-auc:0.65641\n",
      "[52]\tvalidation_0-auc:0.65424\n",
      "[53]\tvalidation_0-auc:0.65416\n",
      "[54]\tvalidation_0-auc:0.65497\n",
      "[55]\tvalidation_0-auc:0.65295\n",
      "[56]\tvalidation_0-auc:0.65260\n",
      "[57]\tvalidation_0-auc:0.65188\n",
      "[58]\tvalidation_0-auc:0.65188\n",
      "[59]\tvalidation_0-auc:0.64860\n",
      "[60]\tvalidation_0-auc:0.64387\n",
      "[61]\tvalidation_0-auc:0.64445\n",
      "[62]\tvalidation_0-auc:0.64269\n",
      "[63]\tvalidation_0-auc:0.63801\n",
      "[64]\tvalidation_0-auc:0.63976\n",
      "[65]\tvalidation_0-auc:0.63896\n",
      "[66]\tvalidation_0-auc:0.63864\n",
      "[67]\tvalidation_0-auc:0.63882\n",
      "[68]\tvalidation_0-auc:0.63916\n",
      "[69]\tvalidation_0-auc:0.63669\n",
      "[70]\tvalidation_0-auc:0.63634\n",
      "[71]\tvalidation_0-auc:0.63849\n",
      "[72]\tvalidation_0-auc:0.63569\n",
      "[73]\tvalidation_0-auc:0.63723\n",
      "[74]\tvalidation_0-auc:0.63735\n",
      "[75]\tvalidation_0-auc:0.63647\n",
      "[76]\tvalidation_0-auc:0.63565\n",
      "[77]\tvalidation_0-auc:0.63638\n",
      "[78]\tvalidation_0-auc:0.63544\n",
      "[79]\tvalidation_0-auc:0.63588\n",
      "[80]\tvalidation_0-auc:0.63663\n",
      "[81]\tvalidation_0-auc:0.63542\n",
      "[82]\tvalidation_0-auc:0.64223\n",
      "[83]\tvalidation_0-auc:0.64288\n",
      "[84]\tvalidation_0-auc:0.64382\n",
      "[85]\tvalidation_0-auc:0.64188\n",
      "[86]\tvalidation_0-auc:0.64420\n",
      "[87]\tvalidation_0-auc:0.64311\n",
      "[88]\tvalidation_0-auc:0.64229\n",
      "[89]\tvalidation_0-auc:0.64370\n",
      "[90]\tvalidation_0-auc:0.64257\n",
      "[91]\tvalidation_0-auc:0.64055\n",
      "[92]\tvalidation_0-auc:0.63820\n",
      "[93]\tvalidation_0-auc:0.63763\n",
      "[94]\tvalidation_0-auc:0.63856\n",
      "[95]\tvalidation_0-auc:0.63902\n",
      "[96]\tvalidation_0-auc:0.63635\n",
      "[97]\tvalidation_0-auc:0.63891\n",
      "[98]\tvalidation_0-auc:0.64020\n",
      "[99]\tvalidation_0-auc:0.64117\n"
     ]
    },
    {
     "data": {
      "text/plain": [
       "XGBClassifier(base_score=None, booster=None, callbacks=None,\n",
       "              colsample_bylevel=None, colsample_bynode=None,\n",
       "              colsample_bytree=None, device=None, early_stopping_rounds=None,\n",
       "              enable_categorical=False, eval_metric='auc', feature_types=None,\n",
       "              gamma=None, grow_policy=None, importance_type=None,\n",
       "              interaction_constraints=None, learning_rate=None, max_bin=None,\n",
       "              max_cat_threshold=None, max_cat_to_onehot=None,\n",
       "              max_delta_step=None, max_depth=None, max_leaves=None,\n",
       "              min_child_weight=None, missing=nan, monotone_constraints=None,\n",
       "              multi_strategy=None, n_estimators=None, n_jobs=None,\n",
       "              num_parallel_tree=None, random_state=42, ...)"
      ]
     },
     "execution_count": 151,
     "metadata": {},
     "output_type": "execute_result"
    }
   ],
   "source": [
    "# Cell 5: Train model\n",
    "model = xgb.XGBClassifier(\n",
    "    random_state=42,\n",
    "    objective='binary:logistic',\n",
    "    eval_metric=\"auc\",\n",
    "    scale_pos_weight=neg_samples / pos_samples\n",
    ")\n",
    "model.fit(X_train, y_train, \n",
    "          eval_set=[(X_test, y_test)],\n",
    "          verbose=1)"
   ]
  },
  {
   "cell_type": "markdown",
   "id": "aba5d05f",
   "metadata": {},
   "source": [
    "# Evaluate Model"
   ]
  },
  {
   "cell_type": "code",
   "execution_count": null,
   "id": "f2fbf838-1692-4fa1-877c-f89431cd21cb",
   "metadata": {},
   "outputs": [
    {
     "name": "stdout",
     "output_type": "stream",
     "text": [
      "Subset ROC AUC (predicted=1 or actual=1): 0.020\n"
     ]
    },
    {
     "data": {
      "image/png": "[encoded data removed]",
      "text/plain": [
       "<Figure size 640x480 with 1 Axes>"
      ]
     },
     "metadata": {},
     "output_type": "display_data"
    },
    {
     "data": {
      "image/png": "[encoded data removed]",
      "text/plain": [
       "<Figure size 640x480 with 1 Axes>"
      ]
     },
     "metadata": {},
     "output_type": "display_data"
    },
    {
     "name": "stdout",
     "output_type": "stream",
     "text": [
      "\n",
      "Classification Report:\n",
      "              precision    recall  f1-score   support\n",
      "\n",
      "         0.0       0.98      1.00      0.99     14681\n",
      "         1.0       0.23      0.05      0.08       352\n",
      "\n",
      "    accuracy                           0.97     15033\n",
      "   macro avg       0.60      0.52      0.53     15033\n",
      "weighted avg       0.96      0.97      0.97     15033\n",
      "\n"
     ]
    }
   ],
   "source": [
    "from src.plots.feature_plots import plot_roc_auc, plot_confusion_matrix\n",
    "from sklearn.metrics import classification_report\n",
    "\n",
    "y_pred = model.predict(X_test)\n",
    "y_proba = model.predict_proba(X_test)[:, 1]\n",
    "\n",
    "plot_roc_auc(model, X_test, y_test)\n",
    "\n",
    "# Plot confusion matrix\n",
    "plot_confusion_matrix(y_test, y_pred, labels=(\"No Sepsis\", \"Sepsis\"))\n",
    "\n",
    "# Print classification metrics\n",
    "print(\"\\nClassification Report:\")\n",
    "print(classification_report(y_test, y_pred))"
   ]
  },
  {
   "cell_type": "markdown",
   "id": "3668017d",
   "metadata": {},
   "source": [
    "# Maximise Threshold"
   ]
  },
  {
   "cell_type": "code",
   "execution_count": null,
   "id": "9e7af989",
   "metadata": {},
   "outputs": [
    {
     "name": "stdout",
     "output_type": "stream",
     "text": [
      "Optimal threshold: 0.0, F Beta 5.5 Score: 0.4283322300533468\n"
     ]
    }
   ],
   "source": [
    "thresholds = np.arange(0.0, 1.0, 0.01)\n",
    "\n",
    "f_beta_scores = []\n",
    "beta_val = 5.5\n",
    "\n",
    "for t in thresholds:\n",
    "    y_pred_threshold = (y_proba >= t).astype(int)\n",
    "    fb = fbeta_score(y_test, y_pred_threshold, beta=beta_val)\n",
    "    f_beta_scores.append(fb)\n",
    "\n",
    "optimal_threshold = thresholds[np.argmax(f_beta_scores)]\n",
    "print(f\"Optimal threshold: {optimal_threshold}, F Beta {beta_val} Score: {max(f_beta_scores)}\")"
   ]
  },
  {
   "cell_type": "markdown",
   "id": "af516826",
   "metadata": {},
   "source": [
    "# Re-evaluate Model"
   ]
  },
  {
   "cell_type": "code",
   "execution_count": null,
   "id": "d604419c",
   "metadata": {},
   "outputs": [
    {
     "name": "stdout",
     "output_type": "stream",
     "text": [
      "Subset ROC AUC (predicted=1 or actual=1): 0.641\n"
     ]
    },
    {
     "data": {
      "image/png": "[encoded data removed]",
      "text/plain": [
       "<Figure size 640x480 with 1 Axes>"
      ]
     },
     "metadata": {},
     "output_type": "display_data"
    },
    {
     "name": "stdout",
     "output_type": "stream",
     "text": [
      "              precision    recall  f1-score   support\n",
      "\n",
      "         0.0       0.00      0.00      0.00     14681\n",
      "         1.0       0.02      1.00      0.05       352\n",
      "\n",
      "    accuracy                           0.02     15033\n",
      "   macro avg       0.01      0.50      0.02     15033\n",
      "weighted avg       0.00      0.02      0.00     15033\n",
      "\n",
      "[[    0 14681]\n",
      " [    0   352]]\n"
     ]
    },
    {
     "name": "stderr",
     "output_type": "stream",
     "text": [
      "/Users/lukeedwards/anaconda3/envs/ADL/lib/python3.11/site-packages/sklearn/metrics/_classification.py:1565: UndefinedMetricWarning: Precision is ill-defined and being set to 0.0 in labels with no predicted samples. Use `zero_division` parameter to control this behavior.\n",
      "  _warn_prf(average, modifier, f\"{metric.capitalize()} is\", len(result))\n",
      "/Users/lukeedwards/anaconda3/envs/ADL/lib/python3.11/site-packages/sklearn/metrics/_classification.py:1565: UndefinedMetricWarning: Precision is ill-defined and being set to 0.0 in labels with no predicted samples. Use `zero_division` parameter to control this behavior.\n",
      "  _warn_prf(average, modifier, f\"{metric.capitalize()} is\", len(result))\n",
      "/Users/lukeedwards/anaconda3/envs/ADL/lib/python3.11/site-packages/sklearn/metrics/_classification.py:1565: UndefinedMetricWarning: Precision is ill-defined and being set to 0.0 in labels with no predicted samples. Use `zero_division` parameter to control this behavior.\n",
      "  _warn_prf(average, modifier, f\"{metric.capitalize()} is\", len(result))\n"
     ]
    }
   ],
   "source": [
    "# Get predicted probabilities for the positive class\n",
    "y_proba = model.predict_proba(X_test)[:, 1]\n",
    "\n",
    "# Apply the threshold to get the new predictions\n",
    "y_pred_custom = (y_proba >= optimal_threshold).astype(int)\n",
    "\n",
    "\n",
    "plot_roc_auc(model, X_test, y_test, optimal_threshold)\n",
    "\n",
    "print(classification_report(y_test, y_pred_custom))\n",
    "print(confusion_matrix(y_test, y_pred_custom))"
   ]
  },
  {
   "cell_type": "markdown",
   "id": "3fda3cd5",
   "metadata": {},
   "source": [
    "# Feature Importance"
   ]
  },
  {
   "cell_type": "code",
   "execution_count": null,
   "id": "a2ece945",
   "metadata": {},
   "outputs": [
    {
     "name": "stdout",
     "output_type": "stream",
     "text": [
      "                Feature  Importance\n",
      "272              ICULOS    0.106672\n",
      "227    PTT_miss_LCV_var    0.027439\n",
      "171  PaCO2_miss_LCV_var    0.021173\n",
      "43        Temp_sw_max_5    0.017903\n",
      "129       Resp_sw_q01_5    0.017367\n",
      "..                  ...         ...\n",
      "239               O2Sat    0.000000\n",
      "240                Temp    0.000000\n",
      "241                 SBP    0.000000\n",
      "242                 MAP    0.000000\n",
      "0             HR_ns_NaN    0.000000\n",
      "\n",
      "[273 rows x 2 columns]\n"
     ]
    }
   ],
   "source": [
    "feature_importances = model.feature_importances_\n",
    "features = X_test.columns\n",
    "importance_df = pd.DataFrame({'Feature': features, 'Importance': feature_importances})\n",
    "importance_df.sort_values(by='Importance', ascending=False, inplace=True)\n",
    "print(importance_df)"
   ]
  },
  {
   "cell_type": "markdown",
   "id": "b7d547ba",
   "metadata": {},
   "source": [
    "# Shap Importance"
   ]
  },
  {
   "cell_type": "code",
   "execution_count": null,
   "id": "88122c68",
   "metadata": {},
   "outputs": [],
   "source": []
  },
  {
   "cell_type": "markdown",
   "id": "f023bb8a-095f-4275-b019-d73def0769b3",
   "metadata": {},
   "source": [
    "# Utility Score"
   ]
  },
  {
   "cell_type": "code",
   "execution_count": null,
   "id": "78dc4f99-2cc5-450f-bd02-01d7b64df56f",
   "metadata": {},
   "outputs": [],
   "source": []
  },
  {
   "cell_type": "markdown",
   "id": "af620a6d-946a-4879-b58f-db03de617723",
   "metadata": {},
   "source": [
    "# Most Important Features"
   ]
  },
  {
   "cell_type": "code",
   "execution_count": null,
   "id": "d8674a04-5892-4f27-ba18-9e91c4758cfa",
   "metadata": {},
   "outputs": [],
   "source": []
  }
 ],
 "metadata": {
  "kernelspec": {
   "display_name": "Python 3",
   "language": "python",
   "name": "python3"
  },
  "language_info": {
   "codemirror_mode": {
    "name": "ipython",
    "version": 3
   },
   "file_extension": ".py",
   "mimetype": "text/x-python",
   "name": "python",
   "nbconvert_exporter": "python",
   "pygments_lexer": "ipython3",
   "version": "3.11.11"
  }
 },
 "nbformat": 4,
 "nbformat_minor": 5
}
