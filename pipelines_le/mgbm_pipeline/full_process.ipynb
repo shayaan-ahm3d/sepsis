{
 "cells": [
  {
   "cell_type": "markdown",
   "id": "db9b1a57-9275-4251-8942-24739d27660b",
   "metadata": {},
   "source": [
    "# Import Modules"
   ]
  },
  {
   "cell_type": "code",
   "execution_count": 119,
   "id": "12c36398-451d-47f2-80f6-b144335ca947",
   "metadata": {},
   "outputs": [],
   "source": [
    "import sys\n",
    "import os\n",
    "import pandas as pd\n",
    "import tqdm as tqdm\n",
    "import xgboost as xgb\n",
    "import numpy as np\n",
    "\n",
    "# Import your custom modules. Adjust the module paths as needed.\n",
    "from src.data.load_data import loadTrainingData\n",
    "from sklearn.model_selection import train_test_split\n",
    "from src.features.create_feature_vectors import extract_features_with_expanding_window\n",
    "from src.plots.feature_plots import plot_roc_auc, plot_confusion_matrix\n",
    "from sklearn.metrics import classification_report,fbeta_score,confusion_matrix\n",
    "from sklearn import set_config\n",
    "\n",
    "set_config(display=\"text\")\n"
   ]
  },
  {
   "cell_type": "markdown",
   "id": "828a24e3-604f-480b-b4dc-d4b64d27e42f",
   "metadata": {},
   "source": [
    "# Load Data"
   ]
  },
  {
   "cell_type": "code",
   "execution_count": 120,
   "id": "05489049-de4b-4388-a44c-b1fdd0ffa790",
   "metadata": {},
   "outputs": [
    {
     "name": "stdout",
     "output_type": "stream",
     "text": [
      "\n",
      "Loading data from: ../../training_setA/*.psv with max_files=10000\n"
     ]
    },
    {
     "name": "stderr",
     "output_type": "stream",
     "text": [
      "Loading PSV Files: 100%|██████████| 10000/10000 [00:09<00:00, 1028.16it/s]\n"
     ]
    },
    {
     "name": "stdout",
     "output_type": "stream",
     "text": [
      "\n",
      "Loading data from: ../../training_setB/*.psv with max_files=10000\n"
     ]
    },
    {
     "name": "stderr",
     "output_type": "stream",
     "text": [
      "Loading PSV Files: 100%|██████████| 10000/10000 [00:10<00:00, 986.82it/s]\n"
     ]
    }
   ],
   "source": [
    "directories = ['../../training_setA/', '../../training_setB/']\n",
    "max_files = 10000  # Adjust as needed\n",
    "\n",
    "patient_dict = {}\n",
    "\n",
    "for directory in directories:\n",
    "    pattern = os.path.join(directory, \"*.psv\")\n",
    "    print(f\"\\nLoading data from: {pattern} with max_files={max_files}\")\n",
    "    patient_data = loadTrainingData(\n",
    "        pattern,\n",
    "        max_files,\n",
    "        ignore_columns=['Age', 'Gender', 'Unit1', 'Unit2', 'HospAdmTime']\n",
    "    )\n",
    "    patient_dict.update(patient_data)"
   ]
  },
  {
   "cell_type": "markdown",
   "id": "db37c0e8-118e-47f3-9e01-b1fedb150dfd",
   "metadata": {},
   "source": [
    "# Create Feature Vectors"
   ]
  },
  {
   "cell_type": "code",
   "execution_count": 121,
   "id": "c028cab8-4b58-46ee-a4b9-3c3a7e81c9d5",
   "metadata": {
    "scrolled": true
   },
   "outputs": [],
   "source": [
    "# feature_df = extract_features_with_expanding_window(patient_dict)"
   ]
  },
  {
   "cell_type": "markdown",
   "id": "808951b3",
   "metadata": {},
   "source": [
    " # Save or Load Feature"
   ]
  },
  {
   "cell_type": "code",
   "execution_count": 122,
   "id": "5700a520",
   "metadata": {},
   "outputs": [
    {
     "name": "stdout",
     "output_type": "stream",
     "text": [
      "Feature data loaded from feature_data.pkl\n"
     ]
    }
   ],
   "source": [
    "def save_feature_data(feature_df, file_path=\"feature_data.pkl\"):\n",
    "    feature_df.to_pickle(file_path)\n",
    "    print(f\"Feature data saved to {file_path}\")\n",
    "\n",
    "def load_feature_data(file_path=\"feature_data.pkl\"):\n",
    "    feature_df = pd.read_pickle(file_path)\n",
    "    print(f\"Feature data loaded from {file_path}\")\n",
    "    return feature_df\n",
    "\n",
    "feature_df = load_feature_data()\n",
    "# save_feature_data(feature_df)"
   ]
  },
  {
   "cell_type": "markdown",
   "id": "fc75734e",
   "metadata": {},
   "source": [
    "# Add/Remove features"
   ]
  },
  {
   "cell_type": "code",
   "execution_count": 123,
   "id": "90b7cca6-67b7-4ade-b12b-023841fb1f03",
   "metadata": {},
   "outputs": [
    {
     "data": {
      "text/plain": [
       "Index(['HR_ns_NaN', 'HR_sw_mean_5', 'HR_sw_min_5', 'HR_sw_max_5',\n",
       "       'HR_sw_median_5', 'HR_sw_var_5', 'HR_sw_q95_5', 'HR_sw_q99_5',\n",
       "       'HR_sw_q05_5', 'HR_sw_q01_5',\n",
       "       ...\n",
       "       'WBC_miss_LCV_sum', 'WBC_miss_LCV_var', 'Platelets_miss_LC_mean',\n",
       "       'Platelets_miss_LC_var', 'Platelets_miss_LCV_sum',\n",
       "       'Platelets_miss_LCV_var', 'last_rows_miss_L0_sum',\n",
       "       'last_rows_miss_L0_var', 'SepsisLabel', 'patient_id'],\n",
       "      dtype='object', length=240)"
      ]
     },
     "execution_count": 123,
     "metadata": {},
     "output_type": "execute_result"
    }
   ],
   "source": [
    "feature_df.columns"
   ]
  },
  {
   "cell_type": "markdown",
   "id": "457e773c",
   "metadata": {},
   "source": [
    "# Split Sets into Test and Train on Patient ID of Dictionary"
   ]
  },
  {
   "cell_type": "code",
   "execution_count": 124,
   "id": "06ee34ed",
   "metadata": {},
   "outputs": [
    {
     "name": "stdout",
     "output_type": "stream",
     "text": [
      "Number of SEPSIS patients: 1440\n",
      "Number of NON-SEPSIS patients: 18560\n",
      "Train SEPSIS: 1165, NON-SEPSIS: 14835\n",
      "Test SEPSIS: 275, NON-SEPSIS: 3725\n"
     ]
    }
   ],
   "source": [
    "# Group rows by patient_id to create a patient-wise dictionary.\n",
    "patient_groups = {patient_id: group \n",
    "                  for patient_id, group in feature_df.groupby(\"patient_id\")}\n",
    "\n",
    "# Create a new dictionary with keys indicating sepsis status.\n",
    "# For each patient, if any row's SepsisLabel equals 1, mark that patient as sepsis.\n",
    "labeled_patients = {}\n",
    "for patient_id, df in patient_groups.items():\n",
    "    # Check if the patient ever had sepsis\n",
    "    sepsis_label = \"1\" if df[\"SepsisLabel\"].any() else \"0\"\n",
    "    new_key = f\"{patient_id}_{sepsis_label}\"\n",
    "    labeled_patients[new_key] = df\n",
    "\n",
    "# Optional: Print counts to verify split counts\n",
    "sepsis_count = sum(1 for key in labeled_patients if key.endswith('_1'))\n",
    "nonsepsis_count = sum(1 for key in labeled_patients if key.endswith('_0'))\n",
    "print(f\"Number of SEPSIS patients: {sepsis_count}\")\n",
    "print(f\"Number of NON-SEPSIS patients: {nonsepsis_count}\")\n",
    "\n",
    "# Now, create a list of keys and a matching list of binary labels for stratification.\n",
    "keys = list(labeled_patients.keys())\n",
    "labels = [1 if key.endswith('_sepsis') else 0 for key in keys]  # 1 = sepsis, 0 = no sepsis\n",
    "\n",
    "# Split the keys into train and test sets while maintaining the sepsis proportion.\n",
    "train_keys, test_keys, _, _ = train_test_split(\n",
    "    keys, labels, test_size=0.2, random_state=42, stratify=labels\n",
    ")\n",
    "\n",
    "# Build train and test dictionaries from the split keys.\n",
    "train_data_dict = {key: labeled_patients[key] for key in train_keys}\n",
    "test_data_dict = {key: labeled_patients[key] for key in test_keys}\n",
    "\n",
    "# Optional: Verify the stratification in your splits.\n",
    "train_sepsis = sum(1 for key in train_data_dict if key.endswith('_1'))\n",
    "test_sepsis = sum(1 for key in test_data_dict if key.endswith('_1'))\n",
    "print(f\"Train SEPSIS: {train_sepsis}, NON-SEPSIS: {len(train_data_dict) - train_sepsis}\")\n",
    "print(f\"Test SEPSIS: {test_sepsis}, NON-SEPSIS: {len(test_data_dict) - test_sepsis}\")\n",
    "\n",
    "# If needed, you can also concatenate these dictionaries back into DataFrames:\n",
    "train_df = pd.concat(train_data_dict.values(), ignore_index=True)\n",
    "test_df = pd.concat(test_data_dict.values(), ignore_index=True)\n",
    "\n",
    "train_df = train_df.drop(columns=['patient_id'])\n",
    "test_df = test_df.drop(columns=['patient_id'])"
   ]
  },
  {
   "cell_type": "markdown",
   "id": "80c6ed77",
   "metadata": {},
   "source": [
    "#  Train Model"
   ]
  },
  {
   "cell_type": "code",
   "execution_count": 125,
   "id": "364e2755",
   "metadata": {},
   "outputs": [
    {
     "name": "stdout",
     "output_type": "stream",
     "text": [
      "Negative samples of Train: 605181, Positive samples of Train: 11067\n",
      "Negative samples of Test: 150769, Positive samples of Test: 2635\n"
     ]
    }
   ],
   "source": [
    "# Separate features and target\n",
    "X_train = train_df.drop(columns=[\"SepsisLabel\"], errors=\"ignore\")\n",
    "y_train = train_df[\"SepsisLabel\"]\n",
    "\n",
    "X_test = test_df.drop(columns=[\"SepsisLabel\"], errors=\"ignore\")\n",
    "y_test = test_df[\"SepsisLabel\"]\n",
    "\n",
    "neg_samples, pos_samples = y_train.value_counts()\n",
    "neg_samples_test, pos_samples_test = y_test.value_counts()\n",
    "print(f\"Negative samples of Train: {neg_samples}, Positive samples of Train: {pos_samples}\")\n",
    "print(f\"Negative samples of Test: {neg_samples_test}, Positive samples of Test: {pos_samples_test}\")"
   ]
  },
  {
   "cell_type": "code",
   "execution_count": 126,
   "id": "6e863f94-5775-43b3-bcf3-90267658a8de",
   "metadata": {},
   "outputs": [
    {
     "name": "stdout",
     "output_type": "stream",
     "text": [
      "[0]\tvalidation_0-auc:0.76206\n",
      "[1]\tvalidation_0-auc:0.78124\n",
      "[2]\tvalidation_0-auc:0.78863\n",
      "[3]\tvalidation_0-auc:0.79229\n",
      "[4]\tvalidation_0-auc:0.79307\n",
      "[5]\tvalidation_0-auc:0.79750\n",
      "[6]\tvalidation_0-auc:0.79923\n",
      "[7]\tvalidation_0-auc:0.80299\n",
      "[8]\tvalidation_0-auc:0.80719\n",
      "[9]\tvalidation_0-auc:0.80872\n",
      "[10]\tvalidation_0-auc:0.80987\n",
      "[11]\tvalidation_0-auc:0.81065\n",
      "[12]\tvalidation_0-auc:0.81262\n",
      "[13]\tvalidation_0-auc:0.81229\n",
      "[14]\tvalidation_0-auc:0.81139\n",
      "[15]\tvalidation_0-auc:0.81164\n",
      "[16]\tvalidation_0-auc:0.81175\n",
      "[17]\tvalidation_0-auc:0.81060\n",
      "[18]\tvalidation_0-auc:0.81151\n",
      "[19]\tvalidation_0-auc:0.81111\n",
      "[20]\tvalidation_0-auc:0.80885\n",
      "[21]\tvalidation_0-auc:0.80829\n",
      "[22]\tvalidation_0-auc:0.80893\n",
      "[23]\tvalidation_0-auc:0.80893\n",
      "[24]\tvalidation_0-auc:0.80925\n",
      "[25]\tvalidation_0-auc:0.80801\n",
      "[26]\tvalidation_0-auc:0.80566\n",
      "[27]\tvalidation_0-auc:0.80618\n",
      "[28]\tvalidation_0-auc:0.80426\n",
      "[29]\tvalidation_0-auc:0.80371\n",
      "[30]\tvalidation_0-auc:0.80402\n",
      "[31]\tvalidation_0-auc:0.80280\n",
      "[32]\tvalidation_0-auc:0.80240\n",
      "[33]\tvalidation_0-auc:0.80347\n",
      "[34]\tvalidation_0-auc:0.80165\n",
      "[35]\tvalidation_0-auc:0.80091\n",
      "[36]\tvalidation_0-auc:0.80141\n",
      "[37]\tvalidation_0-auc:0.80097\n",
      "[38]\tvalidation_0-auc:0.80026\n",
      "[39]\tvalidation_0-auc:0.79708\n",
      "[40]\tvalidation_0-auc:0.79607\n",
      "[41]\tvalidation_0-auc:0.79512\n",
      "[42]\tvalidation_0-auc:0.79334\n",
      "[43]\tvalidation_0-auc:0.79367\n",
      "[44]\tvalidation_0-auc:0.79321\n",
      "[45]\tvalidation_0-auc:0.79324\n",
      "[46]\tvalidation_0-auc:0.79489\n",
      "[47]\tvalidation_0-auc:0.79468\n",
      "[48]\tvalidation_0-auc:0.79189\n",
      "[49]\tvalidation_0-auc:0.79155\n",
      "[50]\tvalidation_0-auc:0.79089\n",
      "[51]\tvalidation_0-auc:0.78927\n",
      "[52]\tvalidation_0-auc:0.78692\n",
      "[53]\tvalidation_0-auc:0.78672\n",
      "[54]\tvalidation_0-auc:0.78520\n",
      "[55]\tvalidation_0-auc:0.78355\n",
      "[56]\tvalidation_0-auc:0.78266\n",
      "[57]\tvalidation_0-auc:0.78233\n",
      "[58]\tvalidation_0-auc:0.78221\n",
      "[59]\tvalidation_0-auc:0.78098\n",
      "[60]\tvalidation_0-auc:0.78025\n",
      "[61]\tvalidation_0-auc:0.77892\n",
      "[62]\tvalidation_0-auc:0.77769\n",
      "[63]\tvalidation_0-auc:0.77755\n",
      "[64]\tvalidation_0-auc:0.77759\n",
      "[65]\tvalidation_0-auc:0.77650\n",
      "[66]\tvalidation_0-auc:0.77769\n",
      "[67]\tvalidation_0-auc:0.77725\n",
      "[68]\tvalidation_0-auc:0.77679\n",
      "[69]\tvalidation_0-auc:0.77615\n",
      "[70]\tvalidation_0-auc:0.77486\n",
      "[71]\tvalidation_0-auc:0.77394\n",
      "[72]\tvalidation_0-auc:0.77238\n",
      "[73]\tvalidation_0-auc:0.77187\n",
      "[74]\tvalidation_0-auc:0.77094\n",
      "[75]\tvalidation_0-auc:0.77089\n",
      "[76]\tvalidation_0-auc:0.77043\n",
      "[77]\tvalidation_0-auc:0.76964\n",
      "[78]\tvalidation_0-auc:0.77001\n",
      "[79]\tvalidation_0-auc:0.76901\n",
      "[80]\tvalidation_0-auc:0.76833\n",
      "[81]\tvalidation_0-auc:0.76874\n",
      "[82]\tvalidation_0-auc:0.76847\n",
      "[83]\tvalidation_0-auc:0.76834\n",
      "[84]\tvalidation_0-auc:0.76919\n",
      "[85]\tvalidation_0-auc:0.76960\n",
      "[86]\tvalidation_0-auc:0.76969\n",
      "[87]\tvalidation_0-auc:0.76923\n",
      "[88]\tvalidation_0-auc:0.76892\n",
      "[89]\tvalidation_0-auc:0.76824\n",
      "[90]\tvalidation_0-auc:0.76706\n",
      "[91]\tvalidation_0-auc:0.76700\n",
      "[92]\tvalidation_0-auc:0.76641\n",
      "[93]\tvalidation_0-auc:0.76573\n",
      "[94]\tvalidation_0-auc:0.76516\n",
      "[95]\tvalidation_0-auc:0.76480\n",
      "[96]\tvalidation_0-auc:0.76502\n",
      "[97]\tvalidation_0-auc:0.76452\n",
      "[98]\tvalidation_0-auc:0.76430\n",
      "[99]\tvalidation_0-auc:0.76415\n"
     ]
    },
    {
     "data": {
      "text/plain": [
       "XGBClassifier(base_score=None, booster=None, callbacks=None,\n",
       "              colsample_bylevel=None, colsample_bynode=None,\n",
       "              colsample_bytree=None, device=None, early_stopping_rounds=None,\n",
       "              enable_categorical=False, eval_metric='auc', feature_types=None,\n",
       "              gamma=None, grow_policy=None, importance_type=None,\n",
       "              interaction_constraints=None, learning_rate=None, max_bin=None,\n",
       "              max_cat_threshold=None, max_cat_to_onehot=None,\n",
       "              max_delta_step=None, max_depth=None, max_leaves=None,\n",
       "              min_child_weight=None, missing=nan, monotone_constraints=None,\n",
       "              multi_strategy=None, n_estimators=None, n_jobs=None,\n",
       "              num_parallel_tree=None, random_state=42, ...)"
      ]
     },
     "execution_count": 126,
     "metadata": {},
     "output_type": "execute_result"
    }
   ],
   "source": [
    "# Cell 5: Train model\n",
    "model = xgb.XGBClassifier(\n",
    "    random_state=42,\n",
    "    objective='binary:logistic',\n",
    "    eval_metric=\"auc\",\n",
    "    scale_pos_weight=neg_samples / pos_samples\n",
    ")\n",
    "model.fit(X_train, y_train, \n",
    "          eval_set=[(X_test, y_test)],\n",
    "          verbose=1)"
   ]
  },
  {
   "cell_type": "markdown",
   "id": "aba5d05f",
   "metadata": {},
   "source": [
    "# Evaluate Model"
   ]
  },
  {
   "cell_type": "code",
   "execution_count": 127,
   "id": "f2fbf838-1692-4fa1-877c-f89431cd21cb",
   "metadata": {},
   "outputs": [
    {
     "name": "stdout",
     "output_type": "stream",
     "text": [
      "Subset ROC AUC (predicted=1 or actual=1): 0.225\n"
     ]
    },
    {
     "data": {
      "image/png": "[encoded data removed]",
      "text/plain": [
       "<Figure size 640x480 with 1 Axes>"
      ]
     },
     "metadata": {},
     "output_type": "display_data"
    },
    {
     "data": {
      "image/png": "[encoded data removed]",
      "text/plain": [
       "<Figure size 640x480 with 1 Axes>"
      ]
     },
     "metadata": {},
     "output_type": "display_data"
    },
    {
     "name": "stdout",
     "output_type": "stream",
     "text": [
      "\n",
      "Classification Report:\n",
      "              precision    recall  f1-score   support\n",
      "\n",
      "           0       0.99      0.93      0.96    150769\n",
      "           1       0.08      0.35      0.13      2635\n",
      "\n",
      "    accuracy                           0.92    153404\n",
      "   macro avg       0.54      0.64      0.55    153404\n",
      "weighted avg       0.97      0.92      0.94    153404\n",
      "\n"
     ]
    }
   ],
   "source": [
    "from src.plots.feature_plots import plot_roc_auc, plot_confusion_matrix\n",
    "from sklearn.metrics import classification_report\n",
    "\n",
    "y_pred = model.predict(X_test)\n",
    "y_proba = model.predict_proba(X_test)[:, 1]\n",
    "\n",
    "plot_roc_auc(model, X_test, y_test)\n",
    "\n",
    "# Plot confusion matrix\n",
    "plot_confusion_matrix(y_test, y_pred, labels=(\"No Sepsis\", \"Sepsis\"))\n",
    "\n",
    "# Print classification metrics\n",
    "print(\"\\nClassification Report:\")\n",
    "print(classification_report(y_test, y_pred))"
   ]
  },
  {
   "cell_type": "markdown",
   "id": "3668017d",
   "metadata": {},
   "source": [
    "# Maximise Threshold"
   ]
  },
  {
   "cell_type": "code",
   "execution_count": 128,
   "id": "9e7af989",
   "metadata": {},
   "outputs": [
    {
     "name": "stdout",
     "output_type": "stream",
     "text": [
      "Optimal threshold: 0.13, F Beta 5.5 Score: 0.45350283031187366\n"
     ]
    }
   ],
   "source": [
    "thresholds = np.arange(0.0, 1.0, 0.01)\n",
    "\n",
    "f_beta_scores = []\n",
    "beta_val = 5.5\n",
    "\n",
    "for t in thresholds:\n",
    "    y_pred_threshold = (y_proba >= t).astype(int)\n",
    "    fb = fbeta_score(y_test, y_pred_threshold, beta=beta_val)\n",
    "    f_beta_scores.append(fb)\n",
    "\n",
    "optimal_threshold = thresholds[np.argmax(f_beta_scores)]\n",
    "print(f\"Optimal threshold: {optimal_threshold}, F Beta {beta_val} Score: {max(f_beta_scores)}\")"
   ]
  },
  {
   "cell_type": "markdown",
   "id": "af516826",
   "metadata": {},
   "source": [
    "# Re-evaluate Model"
   ]
  },
  {
   "cell_type": "code",
   "execution_count": 129,
   "id": "d604419c",
   "metadata": {},
   "outputs": [
    {
     "name": "stdout",
     "output_type": "stream",
     "text": [
      "Subset ROC AUC (predicted=1 or actual=1): 0.504\n"
     ]
    },
    {
     "data": {
      "image/png": "[encoded data removed]",
      "text/plain": [
       "<Figure size 640x480 with 1 Axes>"
      ]
     },
     "metadata": {},
     "output_type": "display_data"
    },
    {
     "name": "stdout",
     "output_type": "stream",
     "text": [
      "              precision    recall  f1-score   support\n",
      "\n",
      "           0       0.99      0.67      0.80    150769\n",
      "           1       0.04      0.73      0.07      2635\n",
      "\n",
      "    accuracy                           0.67    153404\n",
      "   macro avg       0.51      0.70      0.43    153404\n",
      "weighted avg       0.98      0.67      0.78    153404\n",
      "\n",
      "[[100298  50471]\n",
      " [   718   1917]]\n"
     ]
    }
   ],
   "source": [
    "# Get predicted probabilities for the positive class\n",
    "y_proba = model.predict_proba(X_test)[:, 1]\n",
    "\n",
    "# Apply the threshold to get the new predictions\n",
    "y_pred_custom = (y_proba >= optimal_threshold).astype(int)\n",
    "\n",
    "\n",
    "plot_roc_auc(model, X_test, y_test, optimal_threshold)\n",
    "\n",
    "print(classification_report(y_test, y_pred_custom))\n",
    "print(confusion_matrix(y_test, y_pred_custom))"
   ]
  },
  {
   "cell_type": "markdown",
   "id": "3fda3cd5",
   "metadata": {},
   "source": [
    "# Feature Importance"
   ]
  },
  {
   "cell_type": "code",
   "execution_count": 130,
   "id": "a2ece945",
   "metadata": {},
   "outputs": [
    {
     "name": "stdout",
     "output_type": "stream",
     "text": [
      "               Feature  Importance\n",
      "140  Temp_miss_LC_mean    0.057302\n",
      "178   AST_miss_LCV_sum    0.021721\n",
      "160  FiO2_miss_LC_mean    0.018673\n",
      "59           Temp_last    0.014930\n",
      "41      Temp_sw_mean_5    0.012036\n",
      "..                 ...         ...\n",
      "143  Temp_miss_LCV_var    0.000000\n",
      "144   DBP_miss_LC_mean    0.000000\n",
      "145    DBP_miss_LC_var    0.000000\n",
      "146   DBP_miss_LCV_sum    0.000000\n",
      "0            HR_ns_NaN    0.000000\n",
      "\n",
      "[238 rows x 2 columns]\n"
     ]
    }
   ],
   "source": [
    "feature_importances = model.feature_importances_\n",
    "features = X_test.columns\n",
    "importance_df = pd.DataFrame({'Feature': features, 'Importance': feature_importances})\n",
    "importance_df.sort_values(by='Importance', ascending=False, inplace=True)\n",
    "print(importance_df)"
   ]
  },
  {
   "cell_type": "markdown",
   "id": "b7d547ba",
   "metadata": {},
   "source": [
    "# Shap Importance"
   ]
  },
  {
   "cell_type": "code",
   "execution_count": null,
   "id": "88122c68",
   "metadata": {},
   "outputs": [],
   "source": []
  },
  {
   "cell_type": "markdown",
   "id": "f023bb8a-095f-4275-b019-d73def0769b3",
   "metadata": {},
   "source": [
    "# Utility Score"
   ]
  },
  {
   "cell_type": "code",
   "execution_count": null,
   "id": "78dc4f99-2cc5-450f-bd02-01d7b64df56f",
   "metadata": {},
   "outputs": [],
   "source": []
  },
  {
   "cell_type": "markdown",
   "id": "af620a6d-946a-4879-b58f-db03de617723",
   "metadata": {},
   "source": [
    "# Most Important Features"
   ]
  },
  {
   "cell_type": "code",
   "execution_count": null,
   "id": "d8674a04-5892-4f27-ba18-9e91c4758cfa",
   "metadata": {},
   "outputs": [],
   "source": []
  }
 ],
 "metadata": {
  "kernelspec": {
   "display_name": "Python 3",
   "language": "python",
   "name": "python3"
  },
  "language_info": {
   "codemirror_mode": {
    "name": "ipython",
    "version": 3
   },
   "file_extension": ".py",
   "mimetype": "text/x-python",
   "name": "python",
   "nbconvert_exporter": "python",
   "pygments_lexer": "ipython3",
   "version": "3.11.11"
  }
 },
 "nbformat": 4,
 "nbformat_minor": 5
}
