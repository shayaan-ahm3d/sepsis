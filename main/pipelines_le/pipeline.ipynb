{
 "cells": [
  {
   "metadata": {
    "jupyter": {
     "is_executing": true
    }
   },
   "cell_type": "code",
   "source": [
    "import lgbm_pipeline.feature_load as loader\n",
    "import lgbm_pipeline.feature_extraction as extractor\n",
    "from lgbm_pipeline.feature_extraction import VITALS, LABS, DEMOGRAPHICS, DROPS, OUTCOME, FEATURES\n",
    "import mgbm_pipeline.src.features.derive_features as derive\n",
    "\n",
    "from tqdm import tqdm\n",
    "import polars as pl\n",
    "from sklearn.model_selection import train_test_split\n",
    "from sklearn.metrics import fbeta_score, make_scorer, classification_report, RocCurveDisplay, ConfusionMatrixDisplay\n",
    "from sklearn.utils import shuffle\n",
    "import xgboost as xgb\n",
    "\n",
    "from main.pipelines_le.pipeline import find_project_root"
   ],
   "id": "35de149f71580bc2",
   "outputs": [],
   "execution_count": null
  },
  {
   "metadata": {},
   "cell_type": "code",
   "outputs": [],
   "execution_count": null,
   "source": [
    "root = find_project_root()\n",
    "patients: list[pl.DataFrame] = loader.load_data(f\"{root}/training_set?/*.psv\", max_files=None)"
   ],
   "id": "572a86a72a76d50f"
  },
  {
   "cell_type": "markdown",
   "id": "7163c8d0",
   "metadata": {},
   "source": [
    "# Feature correlation"
   ]
  },
  {
   "metadata": {},
   "cell_type": "code",
   "outputs": [],
   "execution_count": null,
   "source": [
    "# Get the correlation matrix\n",
    "corr_matrix = pl.concat(patients).to_pandas().corr()\n",
    "# Create a mask for correlations with abs value <= 0.5 or exactly 1.0\n",
    "mask = (abs(corr_matrix) <= 0.5) | (abs(corr_matrix) >= 0.99999)\n",
    "# Apply the mask (replacing filtered values with NaN)\n",
    "filtered_corr = corr_matrix.mask(mask)\n",
    "# Find columns that have at least one value in our desired range\n",
    "has_correlations = (~filtered_corr.isnull()).sum() > 0\n",
    "columns_to_keep = filtered_corr.columns[has_correlations]\n",
    "# Keep only those columns/rows in the correlation matrix\n",
    "reduced_corr = filtered_corr.loc[columns_to_keep, columns_to_keep]\n",
    "\n",
    "import matplotlib.pyplot as plt\n",
    "import seaborn as sns\n",
    "import numpy as np\n",
    "\n",
    "plt.figure(figsize=(14, 12))\n",
    "sns.heatmap(\n",
    "    reduced_corr,\n",
    "    xticklabels=True,\n",
    "    yticklabels=True,\n",
    "    cmap=\"viridis\",\n",
    "    vmin=-1,\n",
    "    vmax=1,\n",
    "    center=0,\n",
    "    square=True,\n",
    "    annot=True,\n",
    "    #mask=np.triu(reduced_corr), # keep lower triangle only\n",
    "    linecolor=\"black\",\n",
    "    linewidths=0.25,\n",
    ")\n",
    "\n",
    "plt.title(f'{len(columns_to_keep)} most correlated features (0.5 < |PMCC| < 1.0)', fontsize=24)\n",
    "plt.xticks(rotation=45, ha='right')\n",
    "plt.tight_layout()\n",
    "plt.savefig(f\"{root}/plots/correlation_matrix.png\", format=\"png\")\n",
    "plt.show()"
   ],
   "id": "876e2f1cbff2795a"
  },
  {
   "cell_type": "markdown",
   "id": "8a972197",
   "metadata": {},
   "source": [
    "# Train/test split\n",
    "Ensure enough sepsis patient representation in train and test sets"
   ]
  },
  {
   "cell_type": "code",
   "execution_count": 5,
   "id": "5ecbe82b",
   "metadata": {
    "ExecuteTime": {
     "end_time": "2025-04-13T00:38:55.446058Z",
     "start_time": "2025-04-13T00:29:32.380234Z"
    }
   },
   "outputs": [
    {
     "name": "stderr",
     "output_type": "stream",
     "text": [
      "Splitting sepsis/non-sepsis patients: 100%|██████████| 40336/40336 [00:00<00:00, 58829.45it/s]\n"
     ]
    }
   ],
   "source": [
    "sepsis_patients: list[pl.DataFrame] = []\n",
    "non_sepsis_patients: list[pl.DataFrame] = []\n",
    "\n",
    "for patient in tqdm(patients, \"Splitting sepsis/non-sepsis patients\"):\n",
    "\tif patient.select(pl.any(\"SepsisLabel\")).item():\n",
    "\t\tsepsis_patients.append(patient)\n",
    "\telse:\n",
    "\t\tnon_sepsis_patients.append(patient)"
   ]
  },
  {
   "cell_type": "code",
   "execution_count": 6,
   "id": "4a8d8881a0e5b519",
   "metadata": {
    "ExecuteTime": {
     "end_time": "2025-04-13T00:38:55.450259600Z",
     "start_time": "2025-04-13T00:29:39.604620Z"
    }
   },
   "outputs": [],
   "source": [
    "train_sepsis_patients, test_sepsis_patients = train_test_split(sepsis_patients, random_state=42)\n",
    "train_non_sepsis_patients, test_non_sepsis_patients = train_test_split(non_sepsis_patients, random_state=42)"
   ]
  },
  {
   "cell_type": "code",
   "execution_count": 7,
   "id": "c8d3bdbb",
   "metadata": {
    "ExecuteTime": {
     "end_time": "2025-04-13T00:38:55.453257100Z",
     "start_time": "2025-04-13T00:29:41.138Z"
    }
   },
   "outputs": [
    {
     "name": "stdout",
     "output_type": "stream",
     "text": [
      "Ratio: 12.757162346521145\n",
      "Number of sepsis patients in training set: 2199\n",
      "Number of non-sepsis patients in training set: 28053\n",
      "Number of patients in training set: 30252\n",
      "\n",
      "Number of sepsis patients in testing set: 733\n",
      "Number of non-sepsis patients in testing set: 9351\n",
      "Number of patients in testing set: 10084\n"
     ]
    }
   ],
   "source": [
    "ratio: float = len(train_non_sepsis_patients) / len(train_sepsis_patients)\n",
    "print(f\"Ratio: {ratio}\")\n",
    "\n",
    "train_patients: list[pl.DataFrame] = train_sepsis_patients + train_non_sepsis_patients\n",
    "test_patients: list[pl.DataFrame] = test_sepsis_patients + test_non_sepsis_patients\n",
    "\n",
    "print(f\"Number of sepsis patients in training set: {len(train_sepsis_patients)}\")\n",
    "print(f\"Number of non-sepsis patients in training set: {len(train_non_sepsis_patients)}\")\n",
    "print(f\"Number of patients in training set: {len(train_patients)}\\n\")\n",
    "print(f\"Number of sepsis patients in testing set: {len(test_sepsis_patients)}\")\n",
    "print(f\"Number of non-sepsis patients in testing set: {len(test_non_sepsis_patients)}\")\n",
    "print(f\"Number of patients in testing set: {len(test_patients)}\")"
   ]
  },
  {
   "cell_type": "markdown",
   "id": "d0023af4",
   "metadata": {},
   "source": [
    "# Data imputation"
   ]
  },
  {
   "cell_type": "code",
   "execution_count": 8,
   "id": "7820767c",
   "metadata": {
    "jupyter": {
     "is_executing": true
    }
   },
   "outputs": [
    {
     "name": "stderr",
     "output_type": "stream",
     "text": [
      "Filling gaps in patient data: 100%|██████████| 30252/30252 [00:14<00:00, 2021.59it/s]\n",
      "Filling gaps in patient data: 100%|██████████| 30252/30252 [00:14<00:00, 2036.69it/s]\n",
      "Filling gaps in patient data: 100%|██████████| 30252/30252 [00:22<00:00, 1358.91it/s]\n"
     ]
    }
   ],
   "source": [
    "train_patients_forward = extractor.fill(train_patients, extractor.FillMethod.FORWARD)\n",
    "train_patients_backward = extractor.fill(train_patients, extractor.FillMethod.BACKWARD)\n",
    "train_patients_linear = extractor.fill(train_patients, extractor.FillMethod.LINEAR)"
   ]
  },
  {
   "cell_type": "code",
   "execution_count": 9,
   "id": "01cc4e69",
   "metadata": {},
   "outputs": [],
   "source": [
    "fill_to_list: dict[extractor.FillMethod, list[pl.DataFrame]] = {\n",
    "\textractor.FillMethod.FORWARD : train_patients_forward,\n",
    "\textractor.FillMethod.BACKWARD: train_patients_backward,\n",
    "\textractor.FillMethod.LINEAR  : train_patients_linear,\n",
    "    }\n",
    "\n",
    "fill_to_concat: dict[extractor.FillMethod, pl.DataFrame] = {\n",
    "\textractor.FillMethod.FORWARD : pl.concat(train_patients_forward, how=\"vertical\"),\n",
    "\textractor.FillMethod.BACKWARD: pl.concat(train_patients_backward, how=\"vertical\"),\n",
    "\textractor.FillMethod.LINEAR  : pl.concat(train_patients_linear, how=\"vertical\"),\n",
    "    }\n",
    "\n",
    "fill_to_corr = {\n",
    "\textractor.FillMethod.FORWARD : fill_to_concat[extractor.FillMethod.FORWARD].to_pandas().corr(),\n",
    "\textractor.FillMethod.BACKWARD: fill_to_concat[extractor.FillMethod.BACKWARD].to_pandas().corr(),\n",
    "\textractor.FillMethod.LINEAR  : fill_to_concat[extractor.FillMethod.LINEAR].to_pandas().corr(),\n",
    "    }"
   ]
  },
  {
   "cell_type": "code",
   "execution_count": 10,
   "id": "823a9f8c",
   "metadata": {},
   "outputs": [
    {
     "name": "stderr",
     "output_type": "stream",
     "text": [
      "100%|██████████| 3/3 [00:00<00:00, 6141.00it/s]0/36 [00:00<?, ?it/s]\n",
      "100%|██████████| 3/3 [00:00<00:00, 8245.68it/s]\n",
      "100%|██████████| 3/3 [00:00<00:00, 5197.40it/s]\n",
      "100%|██████████| 3/3 [00:00<00:00, 18157.16it/s]\n",
      "100%|██████████| 3/3 [00:00<00:00, 24818.37it/s]\n",
      "100%|██████████| 3/3 [00:00<00:00, 24385.49it/s]\n",
      "100%|██████████| 3/3 [00:00<00:00, 24197.91it/s]\n",
      "100%|██████████| 3/3 [00:00<00:00, 24624.09it/s]\n",
      "100%|██████████| 3/3 [00:00<00:00, 20327.81it/s]\n",
      "100%|██████████| 3/3 [00:00<00:00, 19328.59it/s]\n",
      "100%|██████████| 3/3 [00:00<00:00, 21807.47it/s]\n",
      "100%|██████████| 3/3 [00:00<00:00, 15709.00it/s]\n",
      "100%|██████████| 3/3 [00:00<00:00, 25420.02it/s]\n",
      "100%|██████████| 3/3 [00:00<00:00, 33916.20it/s]\n",
      "100%|██████████| 3/3 [00:00<00:00, 18289.12it/s]\n",
      "100%|██████████| 3/3 [00:00<00:00, 28992.88it/s]\n",
      "100%|██████████| 3/3 [00:00<00:00, 23519.46it/s]\n",
      "100%|██████████| 3/3 [00:00<00:00, 17975.59it/s]\n",
      "100%|██████████| 3/3 [00:00<00:00, 25575.02it/s]\n",
      "100%|██████████| 3/3 [00:00<00:00, 22389.52it/s]\n",
      "100%|██████████| 3/3 [00:00<00:00, 30840.47it/s]\n",
      "100%|██████████| 3/3 [00:00<00:00, 35345.26it/s]\n",
      "100%|██████████| 3/3 [00:00<00:00, 37117.73it/s]\n",
      "100%|██████████| 3/3 [00:00<00:00, 36792.14it/s]\n",
      "100%|██████████| 3/3 [00:00<00:00, 20560.31it/s]\n",
      "100%|██████████| 3/3 [00:00<00:00, 8519.24it/s]\n",
      "100%|██████████| 3/3 [00:00<00:00, 21472.55it/s]\n",
      "100%|██████████| 3/3 [00:00<00:00, 25015.73it/s]\n",
      "100%|██████████| 3/3 [00:00<00:00, 16008.79it/s]\n",
      "100%|██████████| 3/3 [00:00<00:00, 24672.38it/s]\n",
      "100%|██████████| 3/3 [00:00<00:00, 26490.34it/s]\n",
      "100%|██████████| 3/3 [00:00<00:00, 31536.12it/s]\n",
      "100%|██████████| 3/3 [00:00<00:00, 19152.07it/s]\n",
      "100%|██████████| 3/3 [00:00<00:00, 27294.82it/s]\n",
      "100%|██████████| 3/3 [00:00<00:00, 30541.05it/s]\n",
      "100%|██████████| 3/3 [00:00<00:00, 26886.56it/s]\n",
      "Finding optimal fill methods: 100%|██████████| 36/36 [00:00<00:00, 461.81it/s]\n",
      "Performing mixed fill: 100%|██████████| 30252/30252 [00:31<00:00, 957.55it/s] \n"
     ]
    }
   ],
   "source": [
    "fill_methods_to_use: dict[str, extractor.FillMethod] = extractor.best_fill_method_for_feature(fill_to_corr,FEATURES)\n",
    "train_patients_mixed: list[pl.DataFrame] = extractor.mixed_fill(fill_to_list, fill_methods_to_use)"
   ]
  },
  {
   "cell_type": "code",
   "execution_count": 11,
   "id": "7362be54",
   "metadata": {},
   "outputs": [
    {
     "name": "stderr",
     "output_type": "stream",
     "text": [
      "Filling gaps in patient data: 100%|██████████| 10084/10084 [00:05<00:00, 1999.73it/s]\n",
      "Filling gaps in patient data: 100%|██████████| 10084/10084 [00:05<00:00, 2014.44it/s]\n",
      "Filling gaps in patient data: 100%|██████████| 10084/10084 [00:07<00:00, 1348.96it/s]\n",
      "Performing mixed fill: 100%|██████████| 10084/10084 [00:09<00:00, 1012.02it/s]\n"
     ]
    }
   ],
   "source": [
    "test_patients_forward: list[pl.DataFrame] = extractor.fill(test_patients, extractor.FillMethod.FORWARD)\n",
    "test_patients_backward: list[pl.DataFrame] = extractor.fill(test_patients, extractor.FillMethod.BACKWARD)\n",
    "test_patients_linear: list[pl.DataFrame] = extractor.fill(test_patients, extractor.FillMethod.LINEAR)\n",
    "\n",
    "fill_method_to_test_patients: dict[extractor.FillMethod, list[pl.DataFrame]] = {\n",
    "\textractor.FillMethod.FORWARD : test_patients_forward,\n",
    "\textractor.FillMethod.BACKWARD: test_patients_backward,\n",
    "\textractor.FillMethod.LINEAR  : test_patients_linear,\n",
    "    }\n",
    "\n",
    "test_patients_mixed: list[pl.DataFrame] = extractor.mixed_fill(fill_method_to_test_patients, fill_methods_to_use)"
   ]
  },
  {
   "cell_type": "markdown",
   "id": "4174abd3",
   "metadata": {},
   "source": [
    "# Down sample non-sepsis patient data"
   ]
  },
  {
   "cell_type": "code",
   "execution_count": 12,
   "id": "d4452b9bd48281a",
   "metadata": {},
   "outputs": [
    {
     "name": "stderr",
     "output_type": "stream",
     "text": [
      "Splitting sepsis/non-sepsis patients: 100%|██████████| 30252/30252 [00:00<00:00, 51238.80it/s]\n"
     ]
    }
   ],
   "source": [
    "mixed_sepsis = []\n",
    "mixed_non_sepsis = []\n",
    "\n",
    "for patient in tqdm(train_patients_mixed, \"Splitting sepsis/non-sepsis patients\"):\n",
    "\tif patient.select(pl.any(\"SepsisLabel\")).item():\n",
    "\t\tmixed_sepsis.append(patient)\n",
    "\telse:\n",
    "\t\tmixed_non_sepsis.append(patient)\n",
    "\n",
    "mixed_non_sepsis = shuffle(mixed_non_sepsis, random_state=42, n_samples=2*len(mixed_sepsis))\n",
    "final_train = mixed_non_sepsis + mixed_sepsis"
   ]
  },
  {
   "cell_type": "code",
   "execution_count": 13,
   "id": "cb3e1145",
   "metadata": {},
   "outputs": [],
   "source": [
    "train = derive.compute_derived_features_polars(pl.concat(final_train, how=\"vertical\"))\n",
    "test = derive.compute_derived_features_polars(pl.concat(test_patients_mixed, how=\"vertical\"))"
   ]
  },
  {
   "cell_type": "code",
   "execution_count": 14,
   "id": "f1358967",
   "metadata": {},
   "outputs": [
    {
     "data": {
      "text/html": [
       "<div><style>\n",
       ".dataframe > thead > tr,\n",
       ".dataframe > tbody > tr {\n",
       "  text-align: right;\n",
       "  white-space: pre-wrap;\n",
       "}\n",
       "</style>\n",
       "<small>shape: (5, 46)</small><table border=\"1\" class=\"dataframe\"><thead><tr><th>HR</th><th>O2Sat</th><th>Temp</th><th>SBP</th><th>MAP</th><th>DBP</th><th>Resp</th><th>EtCO2</th><th>BaseExcess</th><th>HCO3</th><th>FiO2</th><th>pH</th><th>PaCO2</th><th>SaO2</th><th>AST</th><th>BUN</th><th>Alkalinephos</th><th>Calcium</th><th>Chloride</th><th>Creatinine</th><th>Bilirubin_direct</th><th>Glucose</th><th>Lactate</th><th>Magnesium</th><th>Phosphate</th><th>Potassium</th><th>Bilirubin_total</th><th>TroponinI</th><th>Hct</th><th>Hgb</th><th>PTT</th><th>WBC</th><th>Fibrinogen</th><th>Platelets</th><th>Age</th><th>Gender</th><th>SepsisLabel</th><th>ShockIndex</th><th>AgeNormalisedShockIndex</th><th>ModifiedShockIndex</th><th>UCR</th><th>SaO2_FiO2</th><th>PulsePressure</th><th>CardiacOutput</th><th>PartialSOFA</th><th>qSOFA</th></tr><tr><td>f32</td><td>f32</td><td>f32</td><td>f32</td><td>f32</td><td>f32</td><td>f32</td><td>f32</td><td>f32</td><td>f32</td><td>f32</td><td>f32</td><td>f32</td><td>f32</td><td>f32</td><td>f32</td><td>f32</td><td>f32</td><td>f32</td><td>f32</td><td>f32</td><td>f32</td><td>f32</td><td>f32</td><td>f32</td><td>f32</td><td>f32</td><td>f32</td><td>f32</td><td>f32</td><td>f32</td><td>f32</td><td>f32</td><td>f32</td><td>f32</td><td>bool</td><td>bool</td><td>f32</td><td>f32</td><td>f32</td><td>f32</td><td>f32</td><td>f32</td><td>f32</td><td>f32</td><td>f32</td></tr></thead><tbody><tr><td>145.0</td><td>94.0</td><td>37.0</td><td>107.0</td><td>80.330002</td><td>null</td><td>24.0</td><td>null</td><td>null</td><td>22.0</td><td>null</td><td>null</td><td>null</td><td>null</td><td>null</td><td>15.0</td><td>null</td><td>7.8</td><td>117.0</td><td>0.5</td><td>null</td><td>79.0</td><td>null</td><td>1.7</td><td>null</td><td>2.7</td><td>null</td><td>null</td><td>25.9</td><td>8.2</td><td>30.6</td><td>20.1</td><td>522.0</td><td>138.0</td><td>62.240002</td><td>true</td><td>false</td><td>1.35514</td><td>0.021773</td><td>0.029002</td><td>30.0</td><td>null</td><td>null</td><td>null</td><td>1.0</td><td>1.0</td></tr><tr><td>145.0</td><td>94.0</td><td>37.0</td><td>107.0</td><td>80.330002</td><td>null</td><td>24.0</td><td>null</td><td>null</td><td>22.0</td><td>null</td><td>null</td><td>null</td><td>null</td><td>null</td><td>15.0</td><td>null</td><td>7.8</td><td>117.0</td><td>0.5</td><td>null</td><td>79.0</td><td>null</td><td>1.7</td><td>null</td><td>2.7</td><td>null</td><td>null</td><td>25.9</td><td>8.2</td><td>30.6</td><td>20.1</td><td>522.0</td><td>138.0</td><td>62.240002</td><td>true</td><td>false</td><td>1.35514</td><td>0.021773</td><td>0.029002</td><td>30.0</td><td>null</td><td>null</td><td>null</td><td>1.0</td><td>1.0</td></tr><tr><td>139.0</td><td>96.0</td><td>37.0</td><td>106.0</td><td>78.669998</td><td>null</td><td>23.666666</td><td>null</td><td>null</td><td>22.0</td><td>null</td><td>null</td><td>null</td><td>null</td><td>null</td><td>15.0</td><td>null</td><td>7.8</td><td>117.0</td><td>0.5</td><td>null</td><td>79.0</td><td>null</td><td>1.7</td><td>null</td><td>2.7</td><td>null</td><td>null</td><td>25.9</td><td>8.2</td><td>30.6</td><td>20.1</td><td>522.0</td><td>138.0</td><td>62.240002</td><td>true</td><td>false</td><td>1.311321</td><td>0.021069</td><td>0.028388</td><td>30.0</td><td>null</td><td>null</td><td>null</td><td>1.0</td><td>1.0</td></tr><tr><td>115.0</td><td>96.5</td><td>36.110001</td><td>94.5</td><td>68.830002</td><td>null</td><td>23.333334</td><td>null</td><td>null</td><td>22.0</td><td>null</td><td>null</td><td>null</td><td>null</td><td>null</td><td>15.0</td><td>null</td><td>7.8</td><td>117.0</td><td>0.5</td><td>null</td><td>79.0</td><td>null</td><td>1.7</td><td>null</td><td>2.7</td><td>null</td><td>null</td><td>25.9</td><td>8.2</td><td>30.6</td><td>20.1</td><td>522.0</td><td>138.0</td><td>62.240002</td><td>true</td><td>false</td><td>1.216931</td><td>0.019552</td><td>0.026844</td><td>30.0</td><td>null</td><td>null</td><td>null</td><td>2.0</td><td>2.0</td></tr><tr><td>110.0</td><td>95.75</td><td>36.110001</td><td>101.25</td><td>72.75</td><td>null</td><td>23.0</td><td>null</td><td>null</td><td>22.0</td><td>null</td><td>null</td><td>null</td><td>null</td><td>null</td><td>15.0</td><td>null</td><td>7.8</td><td>117.0</td><td>0.5</td><td>null</td><td>79.0</td><td>null</td><td>1.7</td><td>null</td><td>2.7</td><td>null</td><td>null</td><td>25.9</td><td>8.2</td><td>30.6</td><td>20.1</td><td>522.0</td><td>138.0</td><td>62.240002</td><td>true</td><td>false</td><td>1.08642</td><td>0.017455</td><td>0.024294</td><td>30.0</td><td>null</td><td>null</td><td>null</td><td>1.0</td><td>1.0</td></tr></tbody></table></div>"
      ],
      "text/plain": [
       "shape: (5, 46)\n",
       "┌───────┬───────┬───────────┬────────┬───┬───────────────┬───────────────┬─────────────┬───────┐\n",
       "│ HR    ┆ O2Sat ┆ Temp      ┆ SBP    ┆ … ┆ PulsePressure ┆ CardiacOutput ┆ PartialSOFA ┆ qSOFA │\n",
       "│ ---   ┆ ---   ┆ ---       ┆ ---    ┆   ┆ ---           ┆ ---           ┆ ---         ┆ ---   │\n",
       "│ f32   ┆ f32   ┆ f32       ┆ f32    ┆   ┆ f32           ┆ f32           ┆ f32         ┆ f32   │\n",
       "╞═══════╪═══════╪═══════════╪════════╪═══╪═══════════════╪═══════════════╪═════════════╪═══════╡\n",
       "│ 145.0 ┆ 94.0  ┆ 37.0      ┆ 107.0  ┆ … ┆ null          ┆ null          ┆ 1.0         ┆ 1.0   │\n",
       "│ 145.0 ┆ 94.0  ┆ 37.0      ┆ 107.0  ┆ … ┆ null          ┆ null          ┆ 1.0         ┆ 1.0   │\n",
       "│ 139.0 ┆ 96.0  ┆ 37.0      ┆ 106.0  ┆ … ┆ null          ┆ null          ┆ 1.0         ┆ 1.0   │\n",
       "│ 115.0 ┆ 96.5  ┆ 36.110001 ┆ 94.5   ┆ … ┆ null          ┆ null          ┆ 2.0         ┆ 2.0   │\n",
       "│ 110.0 ┆ 95.75 ┆ 36.110001 ┆ 101.25 ┆ … ┆ null          ┆ null          ┆ 1.0         ┆ 1.0   │\n",
       "└───────┴───────┴───────────┴────────┴───┴───────────────┴───────────────┴─────────────┴───────┘"
      ]
     },
     "execution_count": 14,
     "metadata": {},
     "output_type": "execute_result"
    }
   ],
   "source": [
    "train.head()"
   ]
  },
  {
   "cell_type": "code",
   "execution_count": 15,
   "id": "93333c9e",
   "metadata": {},
   "outputs": [],
   "source": [
    "X_train = train.drop(\"SepsisLabel\")\n",
    "y_train = train.select(\"SepsisLabel\").to_series()\n",
    "X_test = test.drop(\"SepsisLabel\")\n",
    "y_test = test.select(\"SepsisLabel\").to_series()"
   ]
  },
  {
   "cell_type": "code",
   "execution_count": 26,
   "id": "fdbe5cfd",
   "metadata": {},
   "outputs": [],
   "source": [
    "f = make_scorer(fbeta_score, beta=1)\n",
    "\n",
    "clf = xgb.XGBClassifier(objective=\"binary:logistic\", eval_metric=f, scale_pos_weight=ratio)\n",
    "bst = clf.fit(X_train, y_train)"
   ]
  },
  {
   "cell_type": "code",
   "execution_count": 27,
   "id": "860673e9",
   "metadata": {},
   "outputs": [],
   "source": [
    "y_pred = bst.predict(X_test)"
   ]
  },
  {
   "cell_type": "code",
   "execution_count": 28,
   "id": "dc4e2cbe",
   "metadata": {},
   "outputs": [
    {
     "name": "stdout",
     "output_type": "stream",
     "text": [
      "              precision    recall  f1-score   support\n",
      "\n",
      "       False       0.99      0.90      0.94    380826\n",
      "        True       0.06      0.37      0.11      7017\n",
      "\n",
      "    accuracy                           0.89    387843\n",
      "   macro avg       0.52      0.63      0.52    387843\n",
      "weighted avg       0.97      0.89      0.92    387843\n",
      "\n"
     ]
    },
    {
     "data": {
      "image/png": "[encoded data removed]",
      "text/plain": [
       "<Figure size 640x480 with 1 Axes>"
      ]
     },
     "metadata": {},
     "output_type": "display_data"
    },
    {
     "data": {
      "image/png": "[encoded data removed]",
      "text/plain": [
       "<Figure size 640x480 with 2 Axes>"
      ]
     },
     "metadata": {},
     "output_type": "display_data"
    }
   ],
   "source": [
    "RocCurveDisplay.from_predictions(y_test, y_pred)\n",
    "ConfusionMatrixDisplay.from_predictions(y_test, y_pred)\n",
    "print(classification_report(y_test, y_pred))"
   ]
  }
 ],
 "metadata": {
  "kernelspec": {
   "display_name": "sepsis",
   "language": "python",
   "name": "python3"
  },
  "language_info": {
   "codemirror_mode": {
    "name": "ipython",
    "version": 3
   },
   "file_extension": ".py",
   "mimetype": "text/x-python",
   "name": "python",
   "nbconvert_exporter": "python",
   "pygments_lexer": "ipython3",
   "version": "3.13.2"
  }
 },
 "nbformat": 4,
 "nbformat_minor": 5
}
