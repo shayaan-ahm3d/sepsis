{
 "cells": [
  {
   "cell_type": "code",
   "execution_count": 1,
   "id": "b37214a1",
   "metadata": {},
   "outputs": [],
   "source": [
    "# Cell 1: Imports\n",
    "import os\n",
    "import pandas as pd\n",
    "from sklearn.model_selection import train_test_split\n",
    "from sklearn.metrics import classification_report\n",
    "import xgboost as xgb\n",
    "\n",
    "from data.load_data import loadTrainingData\n",
    "from plots.feature_plots import plot_roc_auc, plot_confusion_matrix\n",
    "from features.create_feature_vectors import extract_features_with_expanding_window\n",
    "from data.processed_data import save_feature_data,load_feature_data\n",
    "\n",
    "pd.set_option('display.max_columns', None)\n",
    "pd.set_option('display.max_rows', None)"
   ]
  },
  {
   "cell_type": "raw",
   "id": "7bcbde17",
   "metadata": {},
   "source": [
    "TODO:\n",
    "•⁠  ⁠upsample tests ><\n",
    "•⁠  ⁠⁠blue crystal run\n",
    "•⁠  ⁠⁠plot output matrix ><\n",
    "•⁠  ⁠⁠custom auc max function\n",
    "•⁠  ⁠⁠debug vector on 1 patient\n",
    "•⁠  ⁠⁠convert to Jupyter  notebook ><\n",
    "•⁠  ⁠⁠parralise features loop ><\n",
    "•⁠  ⁠⁠dynamic program features"
   ]
  },
  {
   "cell_type": "code",
   "execution_count": 2,
   "id": "57288ea0",
   "metadata": {},
   "outputs": [
    {
     "name": "stdout",
     "output_type": "stream",
     "text": [
      "\n",
      "Loading data from: ../../../training_setA/*.psv with max_files=20000\n"
     ]
    },
    {
     "name": "stderr",
     "output_type": "stream",
     "text": [
      "Loading PSV Files: 100%|████████████████| 20000/20000 [00:18<00:00, 1093.52it/s]\n"
     ]
    },
    {
     "name": "stdout",
     "output_type": "stream",
     "text": [
      "\n",
      "Loading data from: ../../../training_setB/*.psv with max_files=20000\n"
     ]
    },
    {
     "name": "stderr",
     "output_type": "stream",
     "text": [
      "Loading PSV Files: 100%|████████████████| 20000/20000 [00:17<00:00, 1172.75it/s]\n"
     ]
    }
   ],
   "source": [
    "# Cell 2: Load data\n",
    "directories = ['../../../training_setA/', '../../../training_setB/']\n",
    "max_files = 20000  # Adjust as needed\n",
    "\n",
    "patient_dict = {}\n",
    "\n",
    "for directory in directories:\n",
    "    pattern = os.path.join(directory, \"*.psv\")\n",
    "    print(f\"\\nLoading data from: {pattern} with max_files={max_files}\")\n",
    "    patient_data = loadTrainingData(\n",
    "        pattern,\n",
    "        max_files,\n",
    "        ignore_columns=['Age', 'Gender', 'Unit1', 'Unit2', 'HospAdmTime']\n",
    "    )\n",
    "    patient_dict.update(patient_data)\n"
   ]
  },
  {
   "cell_type": "code",
   "execution_count": null,
   "id": "d803c4bf",
   "metadata": {},
   "outputs": [
    {
     "name": "stdout",
     "output_type": "stream",
     "text": [
      "(1538661, 36)\n"
     ]
    },
    {
     "name": "stderr",
     "output_type": "stream",
     "text": [
      "[Parallel(n_jobs=-1)]: Using backend LokyBackend with 8 concurrent workers.it/s]\n",
      "[Parallel(n_jobs=-1)]: Done   2 tasks      | elapsed:    0.7s00:00<28:31, 23.36i\n",
      "[Parallel(n_jobs=-1)]: Done  56 tasks      | elapsed:    1.8s00:01<14:55, 44.61i\n",
      "[Parallel(n_jobs=-1)]: Done 146 tasks      | elapsed:    4.1s[00:04<15:52, 41.85\n",
      "[Parallel(n_jobs=-1)]: Done 272 tasks      | elapsed:    7.2s[00:06<15:42, 42.14\n",
      "[Parallel(n_jobs=-1)]: Done 434 tasks      | elapsed:   11.1s[00:11<18:00, 36.59\n",
      "[Parallel(n_jobs=-1)]: Done 632 tasks      | elapsed:   15.9s[00:15<15:10, 43.21\n",
      "[Parallel(n_jobs=-1)]: Done 866 tasks      | elapsed:   21.4s[00:21<16:19, 39.96\n",
      "[Parallel(n_jobs=-1)]: Done 1136 tasks      | elapsed:   27.9s[00:27<12:59, 49.8\n",
      "[Parallel(n_jobs=-1)]: Done 1442 tasks      | elapsed:   35.5s[00:35<17:22, 36.9\n",
      "[Parallel(n_jobs=-1)]: Done 1784 tasks      | elapsed:   43.4s[00:43<12:49, 49.6\n",
      "[Parallel(n_jobs=-1)]: Done 2162 tasks      | elapsed:   52.5s[00:52<15:04, 41.8\n",
      "[Parallel(n_jobs=-1)]: Done 2576 tasks      | elapsed:  1.0min[01:01<13:06, 47.5\n",
      "[Parallel(n_jobs=-1)]: Done 3026 tasks      | elapsed:  1.2min[01:13<15:57, 38.6\n",
      "[Parallel(n_jobs=-1)]: Done 3512 tasks      | elapsed:  1.4min[01:25<14:34, 41.7\n",
      "[Parallel(n_jobs=-1)]: Done 4034 tasks      | elapsed:  1.6min[01:38<14:37, 40.9\n",
      "[Parallel(n_jobs=-1)]: Done 4592 tasks      | elapsed:  1.9min[01:51<14:07, 41.7\n",
      "[Parallel(n_jobs=-1)]: Done 5186 tasks      | elapsed:  2.1min[02:06<13:10, 44.0\n",
      "[Parallel(n_jobs=-1)]: Done 5816 tasks      | elapsed:  2.4min[02:21<14:23, 39.5\n",
      "[Parallel(n_jobs=-1)]: Done 6482 tasks      | elapsed:  2.6min[02:37<14:25, 38.7\n",
      "[Parallel(n_jobs=-1)]: Done 7184 tasks      | elapsed:  2.9min[02:54<12:29, 43.7\n",
      "[Parallel(n_jobs=-1)]: Done 7922 tasks      | elapsed:  3.2min[03:12<14:14, 37.5\n",
      "[Parallel(n_jobs=-1)]: Done 8696 tasks      | elapsed:  3.5min[03:31<12:26, 41.9\n",
      "[Parallel(n_jobs=-1)]: Done 9506 tasks      | elapsed:  3.9min[03:51<11:44, 43.2\n",
      "[Parallel(n_jobs=-1)]: Done 10352 tasks      | elapsed:  4.2min[04:11<12:54, 38.\n",
      "[Parallel(n_jobs=-1)]: Done 11234 tasks      | elapsed:  4.6min[04:33<13:38, 35.\n",
      "[Parallel(n_jobs=-1)]: Done 12152 tasks      | elapsed:  4.9min[04:56<11:34, 40.\n",
      "[Parallel(n_jobs=-1)]: Done 13106 tasks      | elapsed:  5.3min[05:20<10:56, 40.\n",
      "[Parallel(n_jobs=-1)]: Done 14096 tasks      | elapsed:  5.7min[05:44<09:44, 44.\n",
      "[Parallel(n_jobs=-1)]: Done 15122 tasks      | elapsed:  6.1min[06:08<08:32, 48.\n",
      "[Parallel(n_jobs=-1)]: Done 16184 tasks      | elapsed:  6.6min[06:34<09:40, 40.\n",
      "[Parallel(n_jobs=-1)]: Done 17282 tasks      | elapsed:  7.2min[07:12<11:25, 33.\n",
      "[Parallel(n_jobs=-1)]: Done 18416 tasks      | elapsed:  7.7min[07:41<09:20, 38.\n",
      "[Parallel(n_jobs=-1)]: Done 19586 tasks      | elapsed:  8.2min[08:11<08:16, 41.\n",
      "[Parallel(n_jobs=-1)]: Done 20792 tasks      | elapsed:  8.7min[08:42<08:28, 37.\n",
      "[Parallel(n_jobs=-1)]: Done 22034 tasks      | elapsed:  9.2min[09:12<06:33, 45.\n",
      "[Parallel(n_jobs=-1)]: Done 23312 tasks      | elapsed:  9.7min[09:43<06:40, 41.\n",
      "[Parallel(n_jobs=-1)]: Done 24626 tasks      | elapsed: 10.2min[10:14<06:13, 41.\n",
      "[Parallel(n_jobs=-1)]: Done 25976 tasks      | elapsed: 10.8min[10:45<05:26, 42.\n",
      "[Parallel(n_jobs=-1)]: Done 27362 tasks      | elapsed: 11.4min[11:25<05:02, 41.\n",
      "[Parallel(n_jobs=-1)]: Done 28784 tasks      | elapsed: 12.0min[11:59<04:12, 44.\n",
      "[Parallel(n_jobs=-1)]: Done 30242 tasks      | elapsed: 12.6min[12:37<04:12, 38.\n",
      "[Parallel(n_jobs=-1)]: Done 31736 tasks      | elapsed: 13.2min[13:12<03:56, 34.\n",
      "[Parallel(n_jobs=-1)]: Done 33266 tasks      | elapsed: 13.8min[13:49<02:55, 38.\n",
      "[Parallel(n_jobs=-1)]: Done 34832 tasks      | elapsed: 14.4min[14:25<02:05, 41.\n",
      "[Parallel(n_jobs=-1)]: Done 36434 tasks      | elapsed: 15.1min[15:03<01:30, 39.\n",
      "[Parallel(n_jobs=-1)]: Done 38072 tasks      | elapsed: 16.1min[16:04<00:40, 47.\n",
      "[Parallel(n_jobs=-1)]: Done 39746 tasks      | elapsed: 16.7min[16:43<00:05, 43.\n",
      "extracting features with expanding window: 100%|█| 40000/40000 [16:48<00:00, 39.\n",
      "[Parallel(n_jobs=-1)]: Done 40000 out of 40000 | elapsed: 16.8min finished\n"
     ]
    },
    {
     "name": "stdout",
     "output_type": "stream",
     "text": [
      "Results Returned\n"
     ]
    }
   ],
   "source": [
    "# Cell 3: Create features\n",
    "feature_df = extract_features_with_expanding_window(patient_dict)\n",
    "feature_df.head(10)  # Adjust as needed for a quick glance\n",
    "\n",
    "# Drop non-feature columns if present\n",
    "for col in [\"patient_id\", \"window_size\"]:\n",
    "    if col in feature_df.columns:\n",
    "        feature_df.drop(columns=[col], inplace=True, errors=\"ignore\")\n",
    "\n",
    "print(\"Columns Dropped\")\n",
    "\n",
    "save_feature_data(feature_df)"
   ]
  },
  {
   "cell_type": "raw",
   "id": "64e31351-32e0-4421-aa42-4166cad722c7",
   "metadata": {},
   "source": [
    "feature_df = load_feature_data()"
   ]
  },
  {
   "cell_type": "code",
   "execution_count": null,
   "id": "fc84ae38-a410-4dbf-8845-71191f1011e3",
   "metadata": {},
   "outputs": [],
   "source": [
    "# Separate features and target\n",
    "X = feature_df.drop(columns=[\"SepsisLabel\"], errors=\"ignore\")\n",
    "y = feature_df[\"SepsisLabel\"]"
   ]
  },
  {
   "cell_type": "code",
   "execution_count": null,
   "id": "e6dd9f9d",
   "metadata": {},
   "outputs": [],
   "source": [
    "# Cell 4: Train/test split\n",
    "neg_samples, pos_samples = y.value_counts()\n",
    "print(f\"Negative samples: {neg_samples}, Positive samples: {pos_samples}\")\n",
    "\n",
    "X_train, X_test, y_train, y_test = train_test_split(\n",
    "    X, y,\n",
    "    test_size=0.2,\n",
    "    random_state=42,\n",
    "    stratify=y\n",
    ")"
   ]
  },
  {
   "cell_type": "code",
   "execution_count": null,
   "id": "b35283f9",
   "metadata": {},
   "outputs": [],
   "source": [
    "# Cell 5: Train model\n",
    "model = xgb.XGBClassifier(\n",
    "    random_state=42,\n",
    "    objective='binary:logistic',\n",
    "    eval_metric=\"auc\",\n",
    "    scale_pos_weight=neg_samples / pos_samples\n",
    ")\n",
    "model.fit(X_train, y_train, \n",
    "          eval_set=[(X_test, y_test)],\n",
    "          verbose=1)"
   ]
  },
  {
   "cell_type": "code",
   "execution_count": null,
   "id": "7da7b2c9",
   "metadata": {},
   "outputs": [],
   "source": [
    "# Cell 6: Evaluate model\n",
    "y_pred = model.predict(X_test)\n",
    "y_proba = model.predict_proba(X_test)[:, 1]\n",
    "\n",
    "# Plot ROC curve\n",
    "plot_roc_auc(model, X_test, y_test)\n",
    "\n",
    "# Plot confusion matrix\n",
    "plot_confusion_matrix(y_test, y_pred, labels=(\"No Sepsis\", \"Sepsis\"))\n",
    "\n",
    "# Print classification metrics\n",
    "print(\"\\nClassification Report:\")\n",
    "print(classification_report(y_test, y_pred))"
   ]
  }
 ],
 "metadata": {
  "kernelspec": {
   "display_name": "Python 3 (ipykernel)",
   "language": "python",
   "name": "python3"
  },
  "language_info": {
   "codemirror_mode": {
    "name": "ipython",
    "version": 3
   },
   "file_extension": ".py",
   "mimetype": "text/x-python",
   "name": "python",
   "nbconvert_exporter": "python",
   "pygments_lexer": "ipython3",
   "version": "3.11.11"
  }
 },
 "nbformat": 4,
 "nbformat_minor": 5
}
