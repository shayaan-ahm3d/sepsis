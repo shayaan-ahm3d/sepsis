{
 "cells": [
  {
   "cell_type": "code",
   "execution_count": 2,
   "id": "initial_id",
   "metadata": {
    "ExecuteTime": {
     "end_time": "2025-03-18T13:49:36.377174Z",
     "start_time": "2025-03-18T13:49:36.358002Z"
    },
    "collapsed": true
   },
   "outputs": [
    {
     "name": "stdout",
     "output_type": "stream",
     "text": [
      "(54, 44)\n"
     ]
    }
   ],
   "source": [
    "import pandas as pd\n",
    "\n",
    "df = pd.read_csv(f\"training_setA/p000001.psv\", sep='|', header=0)\n",
    "#df.drop(columns=[\"ICULOS\"], inplace=True)\n",
    "df[\"UCR\"] = df[\"BUN\"] / df[\"Creatinine\"] # Urea-to-creatinine ratio\n",
    "df[\"ShockIndex\"] = df[\"HR\"] / df[\"SBP\"]\n",
    "\n",
    "def sofa(mean_arterial_pressure: float, platelets: float, bilirubin: float, creatinine: float) -> int:\n",
    "\tscore = 0\n",
    "\n",
    "\tif mean_arterial_pressure < 70:\n",
    "\t\tscore += 1\n",
    "\n",
    "\tif platelets < 20:\n",
    "\t\tscore += 4\n",
    "\telif platelets < 50:\n",
    "\t\tscore += 3\n",
    "\telif platelets < 100:\n",
    "\t\tscore += 2\n",
    "\telif platelets < 150:\n",
    "\t\tscore += 1\n",
    "\n",
    "\tif bilirubin > 12:\n",
    "\t\tscore += 4\n",
    "\telif bilirubin > 6:\n",
    "\t\tscore += 3\n",
    "\telif bilirubin > 2:\n",
    "\t\tscore += 2\n",
    "\telif bilirubin > 1.2:\n",
    "\t\tscore += 1\n",
    "\n",
    "\tif creatinine > 5:\n",
    "\t\tscore += 4\n",
    "\telif creatinine > 3.5:\n",
    "\t\tscore += 3\n",
    "\telif creatinine > 2:\n",
    "\t\tscore += 2\n",
    "\telif creatinine > 1.2:\n",
    "\t\tscore += 1\n",
    "\n",
    "\treturn score\n",
    "\n",
    "df[\"SOFA\"] = df.apply(lambda row: sofa(row[\"MAP\"], row[\"Platelets\"], row[\"Bilirubin_total\"], row[\"Creatinine\"]), axis=1)\n",
    "\n",
    "df_forward_fill = df.ffill(inplace=False)\n",
    "df_backward_fill = df.bfill(inplace=False)\n",
    "df_interpolated = df.interpolate(inplace=False)\n",
    "print(df.shape)"
   ]
  },
  {
   "cell_type": "code",
   "id": "d660de42e55f29cb",
   "metadata": {},
   "source": [
    "import matplotlib.pyplot as plt\n",
    "import seaborn as sns\n",
    "\n",
    "NUM_COLORS = df.shape[1]\n",
    "LINE_STYLES = ['solid', 'dashed', 'dashdot', 'dotted']\n",
    "NUM_STYLES = len(LINE_STYLES)\n",
    "\n",
    "sns.reset_orig()  # get default matplotlib styles back\n",
    "clrs = sns.color_palette('husl', n_colors=NUM_COLORS)  # a list of RGB tuples\n",
    "fig, ax = plt.subplots(1)\n",
    "\n",
    "for i, column in enumerate(df.columns):\n",
    "\tlines = ax.plot(df.index, df[column], label=column)\n",
    "\tlines[0].set_linestyle(LINE_STYLES[i % NUM_STYLES])\n",
    "\n",
    "fig.set_size_inches((13, 8))\n",
    "plt.ylim((0, 200))\n",
    "plt.xlim((0, df.shape[0]))\n",
    "plt.xlabel(\"Time since admission (hours)\")\n",
    "ax.legend(loc='upper right', bbox_to_anchor=(1.2, 1))"
   ],
   "outputs": [],
   "execution_count": null
  },
  {
   "cell_type": "code",
   "execution_count": 7,
   "id": "a37d4b040ec64360",
   "metadata": {
    "ExecuteTime": {
     "end_time": "2025-03-18T13:50:06.651149Z",
     "start_time": "2025-03-18T13:50:06.629994Z"
    }
   },
   "outputs": [
    {
     "name": "stdout",
     "output_type": "stream",
     "text": [
      "(4193820,)\n"
     ]
    }
   ],
   "source": [
    "import numpy as np\n",
    "import iisignature\n",
    "from pprint import pprint\n",
    "\n",
    "stream = np.copy(df[\"ICULOS\"].squeeze(axis=0).to_numpy(dtype=int).reshape((-1, 1)))\n",
    "for column in df_backward_fill:\n",
    "\tstream = np.append(stream, df_backward_fill[column].squeeze(axis=0).to_numpy(dtype=float).reshape((-1, 1)), axis=1)\n",
    "\n",
    "signature = iisignature.sig(stream, 4)\n",
    "pprint(signature.shape)"
   ]
  }
 ],
 "metadata": {
  "kernelspec": {
   "display_name": "AppliedDataScience",
   "language": "python",
   "name": "python3"
  },
  "language_info": {
   "codemirror_mode": {
    "name": "ipython",
    "version": 3
   },
   "file_extension": ".py",
   "mimetype": "text/x-python",
   "name": "python",
   "nbconvert_exporter": "python",
   "pygments_lexer": "ipython3",
   "version": "3.12.8"
  }
 },
 "nbformat": 4,
 "nbformat_minor": 5
}
