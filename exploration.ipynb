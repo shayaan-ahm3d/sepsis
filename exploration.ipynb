{
 "cells": [
  {
   "cell_type": "code",
   "id": "initial_id",
   "metadata": {
    "collapsed": true
   },
   "source": [
    "import pandas as pd\n",
    "\n",
    "df = pd.read_csv(f'training_setA/p000001.psv', sep='|', header=0)\n",
    "#df.drop(columns=['ICULOS'], inplace=True)\n",
    "df_forward_fill = df.ffill(inplace=False)\n",
    "df_backward_fill = df.bfill(inplace=False)\n",
    "df_interpolated = df.interpolate(inplace=False)"
   ],
   "outputs": [],
   "execution_count": null
  },
  {
   "metadata": {},
   "cell_type": "code",
   "source": [
    "import matplotlib.pyplot as plt\n",
    "import seaborn as sns\n",
    "\n",
    "NUM_COLORS = df.shape[1]\n",
    "LINE_STYLES = ['solid', 'dashed', 'dashdot', 'dotted']\n",
    "NUM_STYLES = len(LINE_STYLES)\n",
    "\n",
    "sns.reset_orig()  # get default matplotlib styles back\n",
    "clrs = sns.color_palette('husl', n_colors=NUM_COLORS)  # a list of RGB tuples\n",
    "fig, ax = plt.subplots(1)\n",
    "\n",
    "for i, column in enumerate(df.columns):\n",
    "\tlines = ax.plot(df.index, df[column], label=column)\n",
    "\tlines[0].set_linestyle(LINE_STYLES[i % NUM_STYLES])\n",
    "\n",
    "fig.set_size_inches((13, 8))\n",
    "plt.ylim((0, 200))\n",
    "plt.xlim((0, df.shape[0]))\n",
    "plt.xlabel(\"Time since admission (hours)\")\n",
    "ax.legend(loc='upper right', bbox_to_anchor=(1.2, 1))\n",
    "plt.show()"
   ],
   "id": "d660de42e55f29cb",
   "outputs": [],
   "execution_count": null
  },
  {
   "metadata": {},
   "cell_type": "code",
   "source": [
    "import numpy as np\n",
    "import iisignature\n",
    "from pprint import pprint\n",
    "\n",
    "stream = np.copy(df_backward_fill[\"ICULOS\"].squeeze(axis=0).to_numpy(dtype=int).reshape(-1, 1))\n",
    "for column in df_backward_fill:\n",
    "\tif column != \"ICULOS\":\n",
    "\t\tstream = np.append(stream, df_backward_fill[column].squeeze(axis=0).to_numpy(dtype=float).reshape((-1, 1)), axis=1)\n",
    "\n",
    "pprint(stream.shape)\n",
    "signature = iisignature.sig(stream, 4)\n",
    "pprint(signature)"
   ],
   "id": "a37d4b040ec64360",
   "outputs": [],
   "execution_count": null
  }
 ],
 "metadata": {
  "kernelspec": {
   "display_name": "Python 3",
   "language": "python",
   "name": "python3"
  },
  "language_info": {
   "codemirror_mode": {
    "name": "ipython",
    "version": 2
   },
   "file_extension": ".py",
   "mimetype": "text/x-python",
   "name": "python",
   "nbconvert_exporter": "python",
   "pygments_lexer": "ipython2",
   "version": "2.7.6"
  }
 },
 "nbformat": 4,
 "nbformat_minor": 5
}
